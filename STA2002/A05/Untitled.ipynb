{
 "cells": [
  {
   "cell_type": "code",
   "execution_count": 14,
   "metadata": {},
   "outputs": [],
   "source": [
    "using CSV\n",
    "using Distributions\n",
    "using Plots"
   ]
  },
  {
   "cell_type": "code",
   "execution_count": 1,
   "metadata": {},
   "outputs": [
    {
     "data": {
      "text/plain": [
       "3×4 Array{Int64,2}:\n",
       " 45  25  11  10\n",
       " 68  15   8   5\n",
       " 45   5   3   0"
      ]
     },
     "execution_count": 1,
     "metadata": {},
     "output_type": "execute_result"
    }
   ],
   "source": [
    "data = [\n",
    "    45 25 11 10\n",
    "    68 15 8  5\n",
    "    45 5  3  0\n",
    "]"
   ]
  },
  {
   "cell_type": "code",
   "execution_count": 5,
   "metadata": {},
   "outputs": [
    {
     "data": {
      "text/plain": [
       "1×4 Array{Float64,2}:\n",
       " 0.658333  0.1875  0.0916667  0.0625"
      ]
     },
     "execution_count": 5,
     "metadata": {},
     "output_type": "execute_result"
    }
   ],
   "source": [
    "p = ones(1, 3) * data / sum(data)"
   ]
  },
  {
   "cell_type": "code",
   "execution_count": 7,
   "metadata": {},
   "outputs": [
    {
     "data": {
      "text/plain": [
       "3×1 Array{Float64,2}:\n",
       " 91.0\n",
       " 96.0\n",
       " 53.0"
      ]
     },
     "execution_count": 7,
     "metadata": {},
     "output_type": "execute_result"
    }
   ],
   "source": [
    "c = data * ones(4, 1)"
   ]
  },
  {
   "cell_type": "code",
   "execution_count": 9,
   "metadata": {},
   "outputs": [
    {
     "data": {
      "text/plain": [
       "3×4 Array{Float64,2}:\n",
       " 59.9083  17.0625  8.34167  5.6875\n",
       " 63.2     18.0     8.8      6.0\n",
       " 34.8917   9.9375  4.85833  3.3125"
      ]
     },
     "execution_count": 9,
     "metadata": {},
     "output_type": "execute_result"
    }
   ],
   "source": [
    "expected = c * p"
   ]
  },
  {
   "cell_type": "code",
   "execution_count": 12,
   "metadata": {},
   "outputs": [
    {
     "data": {
      "text/plain": [
       "3×4 Array{Float64,2}:\n",
       " 3.70997   3.69254  0.847161   3.26992\n",
       " 0.364557  0.5      0.0727273  0.166667\n",
       " 2.92845   2.45322  0.71082    3.3125"
      ]
     },
     "execution_count": 12,
     "metadata": {},
     "output_type": "execute_result"
    }
   ],
   "source": [
    "stat = (data .- expected).^2 ./ expected"
   ]
  },
  {
   "cell_type": "code",
   "execution_count": 13,
   "metadata": {},
   "outputs": [
    {
     "data": {
      "text/plain": [
       "22.02853193299814"
      ]
     },
     "execution_count": 13,
     "metadata": {},
     "output_type": "execute_result"
    }
   ],
   "source": [
    "stat = sum(stat)"
   ]
  },
  {
   "cell_type": "code",
   "execution_count": 3,
   "metadata": {
    "collapsed": true,
    "jupyter": {
     "outputs_hidden": true
    }
   },
   "outputs": [
    {
     "data": {
      "text/plain": [
       "14-element Array{Int64,1}:\n",
       "  6\n",
       " 12\n",
       "  8\n",
       " 15\n",
       "  7\n",
       "  8\n",
       " 12\n",
       "  6\n",
       " 10\n",
       " 13\n",
       " 11\n",
       " 11\n",
       " 10\n",
       " 10"
      ]
     },
     "execution_count": 3,
     "metadata": {},
     "output_type": "execute_result"
    }
   ],
   "source": [
    "X = vec(X)"
   ]
  },
  {
   "cell_type": "code",
   "execution_count": 4,
   "metadata": {},
   "outputs": [
    {
     "data": {
      "text/plain": [
       "9"
      ]
     },
     "execution_count": 4,
     "metadata": {},
     "output_type": "execute_result"
    }
   ],
   "source": [
    "count(x->x>9, X)"
   ]
  },
  {
   "cell_type": "code",
   "execution_count": 5,
   "metadata": {},
   "outputs": [
    {
     "data": {
      "text/plain": [
       "14-element Array{Int64,1}:\n",
       " -3\n",
       "  3\n",
       " -1\n",
       "  6\n",
       " -2\n",
       " -1\n",
       "  3\n",
       " -3\n",
       "  1\n",
       "  4\n",
       "  2\n",
       "  2\n",
       "  1\n",
       "  1"
      ]
     },
     "execution_count": 5,
     "metadata": {},
     "output_type": "execute_result"
    }
   ],
   "source": [
    "D = X .- 9"
   ]
  },
  {
   "cell_type": "code",
   "execution_count": 6,
   "metadata": {},
   "outputs": [
    {
     "data": {
      "text/plain": [
       "14-element Array{Int64,1}:\n",
       "  3\n",
       "  6\n",
       "  9\n",
       " 13\n",
       " 14\n",
       "  5\n",
       " 11\n",
       " 12\n",
       "  1\n",
       "  2\n",
       "  7\n",
       "  8\n",
       " 10\n",
       "  4"
      ]
     },
     "execution_count": 6,
     "metadata": {},
     "output_type": "execute_result"
    }
   ],
   "source": [
    "p = sortperm(abs.(D))"
   ]
  },
  {
   "cell_type": "code",
   "execution_count": 7,
   "metadata": {},
   "outputs": [
    {
     "data": {
      "text/plain": [
       "rank (generic function with 1 method)"
      ]
     },
     "execution_count": 7,
     "metadata": {},
     "output_type": "execute_result"
    }
   ],
   "source": [
    "function rank(absD)\n",
    "    len = size(absD)[1]\n",
    "    rank = zeros(len)\n",
    "    i = 1\n",
    "    while i <= len\n",
    "        if i == len\n",
    "            rank[i] = i\n",
    "            break\n",
    "        end\n",
    "        val = absD[i]\n",
    "        tie = 1\n",
    "        while absD[i + tie] == val\n",
    "            tie += 1\n",
    "        end\n",
    "        rank[i:i+tie-1] .= sum(i:i+tie-1) / tie\n",
    "        i += tie\n",
    "    end\n",
    "    return rank\n",
    "end"
   ]
  },
  {
   "cell_type": "code",
   "execution_count": 8,
   "metadata": {
    "collapsed": true,
    "jupyter": {
     "outputs_hidden": true
    }
   },
   "outputs": [
    {
     "data": {
      "text/plain": [
       "14×5 Array{Float64,2}:\n",
       "  8.0  -1.0  1.0   3.0   -3.0\n",
       "  8.0  -1.0  1.0   3.0   -3.0\n",
       " 10.0   1.0  1.0   3.0    3.0\n",
       " 10.0   1.0  1.0   3.0    3.0\n",
       " 10.0   1.0  1.0   3.0    3.0\n",
       "  7.0  -2.0  2.0   7.0   -7.0\n",
       " 11.0   2.0  2.0   7.0    7.0\n",
       " 11.0   2.0  2.0   7.0    7.0\n",
       "  6.0  -3.0  3.0  10.5  -10.5\n",
       " 12.0   3.0  3.0  10.5   10.5\n",
       " 12.0   3.0  3.0  10.5   10.5\n",
       "  6.0  -3.0  3.0  10.5  -10.5\n",
       " 13.0   4.0  4.0  13.0   13.0\n",
       " 15.0   6.0  6.0  14.0   14.0"
      ]
     },
     "execution_count": 8,
     "metadata": {},
     "output_type": "execute_result"
    }
   ],
   "source": [
    "arr = [X[p] D[p] abs.(D)[p] rank(abs.(D)[p]) rank(abs.(D)[p]) .* sign.(D[p])]"
   ]
  },
  {
   "cell_type": "code",
   "execution_count": 113,
   "metadata": {},
   "outputs": [
    {
     "data": {
      "text/plain": [
       "14×5 Array{Float64,2}:\n",
       "  7.5  -0.5  0.5   1.0  -1.0\n",
       "  8.7   0.7  0.7   2.0   2.0\n",
       "  7.1  -0.9  0.9   3.0  -3.0\n",
       "  9.2   1.2  1.2   4.0   4.0\n",
       "  6.3  -1.7  1.7   5.0  -5.0\n",
       "  9.8   1.8  1.8   6.0   6.0\n",
       "  5.5  -2.5  2.5   7.5  -7.5\n",
       " 10.5   2.5  2.5   7.5   7.5\n",
       "  5.2  -2.8  2.8   9.0  -9.0\n",
       " 10.9   2.9  2.9  10.0  10.0\n",
       " 11.1   3.1  3.1  11.0  11.0\n",
       " 11.8   3.8  3.8  12.0  12.0\n",
       " 12.7   4.7  4.7  13.0  13.0\n",
       " 14.4   6.4  6.4  14.0  14.0"
      ]
     },
     "metadata": {},
     "output_type": "display_data"
    }
   ],
   "source": [
    "display(arr)"
   ]
  },
  {
   "cell_type": "code",
   "execution_count": 9,
   "metadata": {},
   "outputs": [
    {
     "data": {
      "text/plain": [
       "15×5 Array{Any,2}:\n",
       "   \"x\"    \"d\"   \"|d|\"    \"r\"     \"r±\"\n",
       "  8.0   -1.0   1.0      3.0    -3.0\n",
       "  8.0   -1.0   1.0      3.0    -3.0\n",
       " 10.0    1.0   1.0      3.0     3.0\n",
       " 10.0    1.0   1.0      3.0     3.0\n",
       " 10.0    1.0   1.0      3.0     3.0\n",
       "  7.0   -2.0   2.0      7.0    -7.0\n",
       " 11.0    2.0   2.0      7.0     7.0\n",
       " 11.0    2.0   2.0      7.0     7.0\n",
       "  6.0   -3.0   3.0     10.5   -10.5\n",
       " 12.0    3.0   3.0     10.5    10.5\n",
       " 12.0    3.0   3.0     10.5    10.5\n",
       "  6.0   -3.0   3.0     10.5   -10.5\n",
       " 13.0    4.0   4.0     13.0    13.0\n",
       " 15.0    6.0   6.0     14.0    14.0"
      ]
     },
     "metadata": {},
     "output_type": "display_data"
    }
   ],
   "source": [
    "display([\n",
    "    \"x\" \"d\" \"|d|\" \"r\" \"r±\"\n",
    "    arr\n",
    "        ])"
   ]
  },
  {
   "cell_type": "code",
   "execution_count": 12,
   "metadata": {},
   "outputs": [
    {
     "data": {
      "text/plain": [
       "37.0"
      ]
     },
     "execution_count": 12,
     "metadata": {},
     "output_type": "execute_result"
    }
   ],
   "source": [
    "sum(rank(abs.(D)[p]) .* sign.(D[p]))"
   ]
  },
  {
   "cell_type": "code",
   "execution_count": 13,
   "metadata": {},
   "outputs": [
    {
     "data": {
      "text/plain": [
       "1.0985884360051028"
      ]
     },
     "execution_count": 13,
     "metadata": {},
     "output_type": "execute_result"
    }
   ],
   "source": [
    "n = 14\n",
    "35/\n",
    "sqrt(\n",
    "n*(n+1)*(2*n+1)/6\n",
    ")"
   ]
  },
  {
   "cell_type": "code",
   "execution_count": 125,
   "metadata": {},
   "outputs": [],
   "source": [
    "using Statistics"
   ]
  },
  {
   "cell_type": "code",
   "execution_count": 144,
   "metadata": {},
   "outputs": [
    {
     "data": {
      "text/plain": [
       "4.660451500000938"
      ]
     },
     "execution_count": 144,
     "metadata": {},
     "output_type": "execute_result"
    }
   ],
   "source": [
    "mean(X) - 9 / (var(X) / sqrt(15))"
   ]
  },
  {
   "cell_type": "code",
   "execution_count": 130,
   "metadata": {},
   "outputs": [
    {
     "data": {
      "text/plain": [
       "2.0"
      ]
     },
     "execution_count": 130,
     "metadata": {},
     "output_type": "execute_result"
    }
   ],
   "source": [
    "var([0 2])"
   ]
  },
  {
   "cell_type": "code",
   "execution_count": 145,
   "metadata": {},
   "outputs": [
    {
     "data": {
      "text/plain": [
       "1×4 Array{Int64,2}:\n",
       " 340  395  358  268"
      ]
     },
     "execution_count": 145,
     "metadata": {},
     "output_type": "execute_result"
    }
   ],
   "source": [
    "pred = 340.25\n",
    "obs = [340 395 358 268]"
   ]
  },
  {
   "cell_type": "code",
   "execution_count": 146,
   "metadata": {},
   "outputs": [
    {
     "data": {
      "text/plain": [
       "25.07788390889052"
      ]
     },
     "execution_count": 146,
     "metadata": {},
     "output_type": "execute_result"
    }
   ],
   "source": [
    "q = sum((obs .- pred) .^ 2 ./ pred)"
   ]
  },
  {
   "cell_type": "code",
   "execution_count": null,
   "metadata": {},
   "outputs": [],
   "source": []
  },
  {
   "cell_type": "code",
   "execution_count": null,
   "metadata": {},
   "outputs": [],
   "source": []
  },
  {
   "cell_type": "code",
   "execution_count": null,
   "metadata": {},
   "outputs": [],
   "source": []
  },
  {
   "cell_type": "code",
   "execution_count": 31,
   "metadata": {},
   "outputs": [],
   "source": [
    "using DataFrames"
   ]
  },
  {
   "cell_type": "code",
   "execution_count": 159,
   "metadata": {},
   "outputs": [],
   "source": [
    "using CSV"
   ]
  },
  {
   "cell_type": "code",
   "execution_count": 155,
   "metadata": {},
   "outputs": [],
   "source": [
    "# (a)"
   ]
  },
  {
   "cell_type": "code",
   "execution_count": 15,
   "metadata": {},
   "outputs": [
    {
     "data": {
      "text/html": [
       "<table class=\"data-frame\"><thead><tr><th></th><th>weather_main</th><th>traffic_volume</th></tr><tr><th></th><th>String</th><th>Int64</th></tr></thead><tbody><p>48,204 rows × 2 columns</p><tr><th>1</th><td>Clouds</td><td>5545</td></tr><tr><th>2</th><td>Clouds</td><td>4516</td></tr><tr><th>3</th><td>Clouds</td><td>4767</td></tr><tr><th>4</th><td>Clouds</td><td>5026</td></tr><tr><th>5</th><td>Clouds</td><td>4918</td></tr><tr><th>6</th><td>Clear</td><td>5181</td></tr><tr><th>7</th><td>Clear</td><td>5584</td></tr><tr><th>8</th><td>Clear</td><td>6015</td></tr><tr><th>9</th><td>Clouds</td><td>5791</td></tr><tr><th>10</th><td>Clouds</td><td>4770</td></tr><tr><th>11</th><td>Clouds</td><td>3539</td></tr><tr><th>12</th><td>Clear</td><td>2784</td></tr><tr><th>13</th><td>Clear</td><td>2361</td></tr><tr><th>14</th><td>Clear</td><td>1529</td></tr><tr><th>15</th><td>Clear</td><td>963</td></tr><tr><th>16</th><td>Clear</td><td>506</td></tr><tr><th>17</th><td>Clear</td><td>321</td></tr><tr><th>18</th><td>Clear</td><td>273</td></tr><tr><th>19</th><td>Clear</td><td>367</td></tr><tr><th>20</th><td>Clear</td><td>814</td></tr><tr><th>21</th><td>Clear</td><td>2718</td></tr><tr><th>22</th><td>Clear</td><td>5673</td></tr><tr><th>23</th><td>Clear</td><td>6511</td></tr><tr><th>24</th><td>Clear</td><td>5471</td></tr><tr><th>25</th><td>Clear</td><td>5097</td></tr><tr><th>26</th><td>Clear</td><td>4887</td></tr><tr><th>27</th><td>Clear</td><td>5337</td></tr><tr><th>28</th><td>Clear</td><td>5692</td></tr><tr><th>29</th><td>Clear</td><td>6137</td></tr><tr><th>30</th><td>Clouds</td><td>4623</td></tr><tr><th>&vellip;</th><td>&vellip;</td><td>&vellip;</td></tr></tbody></table>"
      ],
      "text/latex": [
       "\\begin{tabular}{r|cc}\n",
       "\t& weather\\_main & traffic\\_volume\\\\\n",
       "\t\\hline\n",
       "\t& String & Int64\\\\\n",
       "\t\\hline\n",
       "\t1 & Clouds & 5545 \\\\\n",
       "\t2 & Clouds & 4516 \\\\\n",
       "\t3 & Clouds & 4767 \\\\\n",
       "\t4 & Clouds & 5026 \\\\\n",
       "\t5 & Clouds & 4918 \\\\\n",
       "\t6 & Clear & 5181 \\\\\n",
       "\t7 & Clear & 5584 \\\\\n",
       "\t8 & Clear & 6015 \\\\\n",
       "\t9 & Clouds & 5791 \\\\\n",
       "\t10 & Clouds & 4770 \\\\\n",
       "\t11 & Clouds & 3539 \\\\\n",
       "\t12 & Clear & 2784 \\\\\n",
       "\t13 & Clear & 2361 \\\\\n",
       "\t14 & Clear & 1529 \\\\\n",
       "\t15 & Clear & 963 \\\\\n",
       "\t16 & Clear & 506 \\\\\n",
       "\t17 & Clear & 321 \\\\\n",
       "\t18 & Clear & 273 \\\\\n",
       "\t19 & Clear & 367 \\\\\n",
       "\t20 & Clear & 814 \\\\\n",
       "\t21 & Clear & 2718 \\\\\n",
       "\t22 & Clear & 5673 \\\\\n",
       "\t23 & Clear & 6511 \\\\\n",
       "\t24 & Clear & 5471 \\\\\n",
       "\t25 & Clear & 5097 \\\\\n",
       "\t26 & Clear & 4887 \\\\\n",
       "\t27 & Clear & 5337 \\\\\n",
       "\t28 & Clear & 5692 \\\\\n",
       "\t29 & Clear & 6137 \\\\\n",
       "\t30 & Clouds & 4623 \\\\\n",
       "\t$\\dots$ & $\\dots$ & $\\dots$ \\\\\n",
       "\\end{tabular}\n"
      ],
      "text/plain": [
       "48204×2 DataFrame\n",
       "│ Row   │ weather_main │ traffic_volume │\n",
       "│       │ \u001b[90mString\u001b[39m       │ \u001b[90mInt64\u001b[39m          │\n",
       "├───────┼──────────────┼────────────────┤\n",
       "│ 1     │ Clouds       │ 5545           │\n",
       "│ 2     │ Clouds       │ 4516           │\n",
       "│ 3     │ Clouds       │ 4767           │\n",
       "│ 4     │ Clouds       │ 5026           │\n",
       "│ 5     │ Clouds       │ 4918           │\n",
       "│ 6     │ Clear        │ 5181           │\n",
       "│ 7     │ Clear        │ 5584           │\n",
       "│ 8     │ Clear        │ 6015           │\n",
       "│ 9     │ Clouds       │ 5791           │\n",
       "│ 10    │ Clouds       │ 4770           │\n",
       "⋮\n",
       "│ 48194 │ Drizzle      │ 4380           │\n",
       "│ 48195 │ Rain         │ 4302           │\n",
       "│ 48196 │ Drizzle      │ 4302           │\n",
       "│ 48197 │ Rain         │ 4283           │\n",
       "│ 48198 │ Clouds       │ 4132           │\n",
       "│ 48199 │ Rain         │ 3947           │\n",
       "│ 48200 │ Clouds       │ 3543           │\n",
       "│ 48201 │ Clouds       │ 2781           │\n",
       "│ 48202 │ Thunderstorm │ 2159           │\n",
       "│ 48203 │ Clouds       │ 1450           │\n",
       "│ 48204 │ Clouds       │ 954            │"
      ]
     },
     "execution_count": 15,
     "metadata": {},
     "output_type": "execute_result"
    }
   ],
   "source": [
    "s = CSV.read(\"traffic.csv\")"
   ]
  },
  {
   "cell_type": "code",
   "execution_count": 18,
   "metadata": {},
   "outputs": [
    {
     "data": {
      "text/plain": [
       "(48204, 2)"
      ]
     },
     "execution_count": 18,
     "metadata": {},
     "output_type": "execute_result"
    }
   ],
   "source": [
    "size(s)"
   ]
  },
  {
   "cell_type": "code",
   "execution_count": 25,
   "metadata": {},
   "outputs": [
    {
     "data": {
      "text/plain": [
       "15164-element Array{Int64,1}:\n",
       " 5545\n",
       " 4516\n",
       " 4767\n",
       " 5026\n",
       " 4918\n",
       " 5791\n",
       " 4770\n",
       " 3539\n",
       " 4623\n",
       " 3591\n",
       " 2898\n",
       " 6292\n",
       " 6057\n",
       "    ⋮\n",
       "  802\n",
       " 1175\n",
       " 2002\n",
       " 2882\n",
       " 3701\n",
       " 4049\n",
       " 4429\n",
       " 4132\n",
       " 3543\n",
       " 2781\n",
       " 1450\n",
       "  954"
      ]
     },
     "execution_count": 25,
     "metadata": {},
     "output_type": "execute_result"
    }
   ],
   "source": [
    "clouds = [s[i,2] for i in 1:size(s,1) if s[i,1] == \"Clouds\"]"
   ]
  },
  {
   "cell_type": "code",
   "execution_count": 26,
   "metadata": {},
   "outputs": [
    {
     "data": {
      "text/plain": [
       "13391-element Array{Int64,1}:\n",
       " 5181\n",
       " 5584\n",
       " 6015\n",
       " 2784\n",
       " 2361\n",
       " 1529\n",
       "  963\n",
       "  506\n",
       "  321\n",
       "  273\n",
       "  367\n",
       "  814\n",
       " 2718\n",
       "    ⋮\n",
       " 5798\n",
       " 4791\n",
       " 4574\n",
       " 3544\n",
       "  867\n",
       "  524\n",
       "  359\n",
       "  425\n",
       "  743\n",
       " 1359\n",
       " 2036\n",
       " 4059"
      ]
     },
     "execution_count": 26,
     "metadata": {},
     "output_type": "execute_result"
    }
   ],
   "source": [
    "clear = [s[i,2] for i in 1:size(s,1) if s[i,1] == \"Clear\"]"
   ]
  },
  {
   "cell_type": "code",
   "execution_count": 27,
   "metadata": {},
   "outputs": [
    {
     "data": {
      "text/plain": [
       "2876-element Array{Int64,1}:\n",
       " 5234\n",
       " 4695\n",
       " 5341\n",
       " 5943\n",
       " 5874\n",
       " 5879\n",
       " 6060\n",
       " 4771\n",
       " 2067\n",
       "  671\n",
       " 4245\n",
       " 4148\n",
       " 2222\n",
       "    ⋮\n",
       "  357\n",
       "  779\n",
       " 2238\n",
       " 4364\n",
       " 4963\n",
       " 4463\n",
       " 3860\n",
       " 4149\n",
       " 4824\n",
       " 5013\n",
       " 7022\n",
       " 6459"
      ]
     },
     "execution_count": 27,
     "metadata": {},
     "output_type": "execute_result"
    }
   ],
   "source": [
    "snow = [s[i,2] for i in 1:size(s,1) if s[i,1] == \"Snow\"]"
   ]
  },
  {
   "cell_type": "code",
   "execution_count": 41,
   "metadata": {},
   "outputs": [
    {
     "data": {
      "text/plain": [
       "3-element Array{Array{Int64,1},1}:\n",
       " [5545, 4516, 4767, 5026, 4918, 5791, 4770, 3539, 4623, 3591  …  2002, 2882, 3701, 4049, 4429, 4132, 3543, 2781, 1450, 954]\n",
       " [5181, 5584, 6015, 2784, 2361, 1529, 963, 506, 321, 273  …  4574, 3544, 867, 524, 359, 425, 743, 1359, 2036, 4059]\n",
       " [5234, 4695, 5341, 5943, 5874, 5879, 6060, 4771, 2067, 671  …  2238, 4364, 4963, 4463, 3860, 4149, 4824, 5013, 7022, 6459]"
      ]
     },
     "execution_count": 41,
     "metadata": {},
     "output_type": "execute_result"
    }
   ],
   "source": [
    "series = [[clouds]; [clear]; [snow]]"
   ]
  },
  {
   "cell_type": "code",
   "execution_count": 56,
   "metadata": {},
   "outputs": [
    {
     "data": {
      "text/html": [
       "<table class=\"data-frame\"><thead><tr><th></th><th>Clear</th><th>Clouds</th><th>Snow</th></tr><tr><th></th><th>Int64?</th><th>Int64?</th><th>Int64?</th></tr></thead><tbody><p>15,164 rows × 3 columns</p><tr><th>1</th><td>5181</td><td>5545</td><td>5234</td></tr><tr><th>2</th><td>5584</td><td>4516</td><td>4695</td></tr><tr><th>3</th><td>6015</td><td>4767</td><td>5341</td></tr><tr><th>4</th><td>2784</td><td>5026</td><td>5943</td></tr><tr><th>5</th><td>2361</td><td>4918</td><td>5874</td></tr><tr><th>6</th><td>1529</td><td>5791</td><td>5879</td></tr><tr><th>7</th><td>963</td><td>4770</td><td>6060</td></tr><tr><th>8</th><td>506</td><td>3539</td><td>4771</td></tr><tr><th>9</th><td>321</td><td>4623</td><td>2067</td></tr><tr><th>10</th><td>273</td><td>3591</td><td>671</td></tr><tr><th>11</th><td>367</td><td>2898</td><td>4245</td></tr><tr><th>12</th><td>814</td><td>6292</td><td>4148</td></tr><tr><th>13</th><td>2718</td><td>6057</td><td>2222</td></tr><tr><th>14</th><td>5673</td><td>4907</td><td>1943</td></tr><tr><th>15</th><td>6511</td><td>3503</td><td>1437</td></tr><tr><th>16</th><td>5471</td><td>3037</td><td>2409</td></tr><tr><th>17</th><td>5097</td><td>2822</td><td>905</td></tr><tr><th>18</th><td>4887</td><td>1992</td><td>290</td></tr><tr><th>19</th><td>5337</td><td>1166</td><td>2571</td></tr><tr><th>20</th><td>5692</td><td>627</td><td>5541</td></tr><tr><th>21</th><td>6137</td><td>388</td><td>6529</td></tr><tr><th>22</th><td>2637</td><td>2489</td><td>6242</td></tr><tr><th>23</th><td>1777</td><td>5537</td><td>5438</td></tr><tr><th>24</th><td>1015</td><td>6628</td><td>4656</td></tr><tr><th>25</th><td>598</td><td>5534</td><td>4759</td></tr><tr><th>26</th><td>369</td><td>5403</td><td>4943</td></tr><tr><th>27</th><td>312</td><td>4770</td><td>4174</td></tr><tr><th>28</th><td>367</td><td>5217</td><td>4079</td></tr><tr><th>29</th><td>835</td><td>5870</td><td>3900</td></tr><tr><th>30</th><td>2726</td><td>5967</td><td>3420</td></tr><tr><th>&vellip;</th><td>&vellip;</td><td>&vellip;</td><td>&vellip;</td></tr></tbody></table>"
      ],
      "text/latex": [
       "\\begin{tabular}{r|ccc}\n",
       "\t& Clear & Clouds & Snow\\\\\n",
       "\t\\hline\n",
       "\t& Int64? & Int64? & Int64?\\\\\n",
       "\t\\hline\n",
       "\t1 & 5181 & 5545 & 5234 \\\\\n",
       "\t2 & 5584 & 4516 & 4695 \\\\\n",
       "\t3 & 6015 & 4767 & 5341 \\\\\n",
       "\t4 & 2784 & 5026 & 5943 \\\\\n",
       "\t5 & 2361 & 4918 & 5874 \\\\\n",
       "\t6 & 1529 & 5791 & 5879 \\\\\n",
       "\t7 & 963 & 4770 & 6060 \\\\\n",
       "\t8 & 506 & 3539 & 4771 \\\\\n",
       "\t9 & 321 & 4623 & 2067 \\\\\n",
       "\t10 & 273 & 3591 & 671 \\\\\n",
       "\t11 & 367 & 2898 & 4245 \\\\\n",
       "\t12 & 814 & 6292 & 4148 \\\\\n",
       "\t13 & 2718 & 6057 & 2222 \\\\\n",
       "\t14 & 5673 & 4907 & 1943 \\\\\n",
       "\t15 & 6511 & 3503 & 1437 \\\\\n",
       "\t16 & 5471 & 3037 & 2409 \\\\\n",
       "\t17 & 5097 & 2822 & 905 \\\\\n",
       "\t18 & 4887 & 1992 & 290 \\\\\n",
       "\t19 & 5337 & 1166 & 2571 \\\\\n",
       "\t20 & 5692 & 627 & 5541 \\\\\n",
       "\t21 & 6137 & 388 & 6529 \\\\\n",
       "\t22 & 2637 & 2489 & 6242 \\\\\n",
       "\t23 & 1777 & 5537 & 5438 \\\\\n",
       "\t24 & 1015 & 6628 & 4656 \\\\\n",
       "\t25 & 598 & 5534 & 4759 \\\\\n",
       "\t26 & 369 & 5403 & 4943 \\\\\n",
       "\t27 & 312 & 4770 & 4174 \\\\\n",
       "\t28 & 367 & 5217 & 4079 \\\\\n",
       "\t29 & 835 & 5870 & 3900 \\\\\n",
       "\t30 & 2726 & 5967 & 3420 \\\\\n",
       "\t$\\dots$ & $\\dots$ & $\\dots$ & $\\dots$ \\\\\n",
       "\\end{tabular}\n"
      ],
      "text/plain": [
       "15164×3 DataFrame\n",
       "│ Row   │ Clear   │ Clouds │ Snow    │\n",
       "│       │ \u001b[90mInt64?\u001b[39m  │ \u001b[90mInt64?\u001b[39m │ \u001b[90mInt64?\u001b[39m  │\n",
       "├───────┼─────────┼────────┼─────────┤\n",
       "│ 1     │ 5181    │ 5545   │ 5234    │\n",
       "│ 2     │ 5584    │ 4516   │ 4695    │\n",
       "│ 3     │ 6015    │ 4767   │ 5341    │\n",
       "│ 4     │ 2784    │ 5026   │ 5943    │\n",
       "│ 5     │ 2361    │ 4918   │ 5874    │\n",
       "│ 6     │ 1529    │ 5791   │ 5879    │\n",
       "│ 7     │ 963     │ 4770   │ 6060    │\n",
       "│ 8     │ 506     │ 3539   │ 4771    │\n",
       "│ 9     │ 321     │ 4623   │ 2067    │\n",
       "│ 10    │ 273     │ 3591   │ 671     │\n",
       "⋮\n",
       "│ 15154 │ \u001b[90mmissing\u001b[39m │ 1175   │ \u001b[90mmissing\u001b[39m │\n",
       "│ 15155 │ \u001b[90mmissing\u001b[39m │ 2002   │ \u001b[90mmissing\u001b[39m │\n",
       "│ 15156 │ \u001b[90mmissing\u001b[39m │ 2882   │ \u001b[90mmissing\u001b[39m │\n",
       "│ 15157 │ \u001b[90mmissing\u001b[39m │ 3701   │ \u001b[90mmissing\u001b[39m │\n",
       "│ 15158 │ \u001b[90mmissing\u001b[39m │ 4049   │ \u001b[90mmissing\u001b[39m │\n",
       "│ 15159 │ \u001b[90mmissing\u001b[39m │ 4429   │ \u001b[90mmissing\u001b[39m │\n",
       "│ 15160 │ \u001b[90mmissing\u001b[39m │ 4132   │ \u001b[90mmissing\u001b[39m │\n",
       "│ 15161 │ \u001b[90mmissing\u001b[39m │ 3543   │ \u001b[90mmissing\u001b[39m │\n",
       "│ 15162 │ \u001b[90mmissing\u001b[39m │ 2781   │ \u001b[90mmissing\u001b[39m │\n",
       "│ 15163 │ \u001b[90mmissing\u001b[39m │ 1450   │ \u001b[90mmissing\u001b[39m │\n",
       "│ 15164 │ \u001b[90mmissing\u001b[39m │ 954    │ \u001b[90mmissing\u001b[39m │"
      ]
     },
     "execution_count": 56,
     "metadata": {},
     "output_type": "execute_result"
    }
   ],
   "source": [
    "series = [[clouds]; [clear]; [snow]]\n",
    "rows = [[1:length(s);] for s in series]\n",
    "df = flatten(DataFrame(g=[\"Clouds\",\"Clear\",\"Snow\"], s=series, r=rows), [:s, :r])\n",
    "df = unstack(df, :g, :s)[:,2:end]"
   ]
  },
  {
   "cell_type": "code",
   "execution_count": 58,
   "metadata": {},
   "outputs": [
    {
     "data": {
      "text/plain": [
       "\"df.csv\""
      ]
     },
     "execution_count": 58,
     "metadata": {},
     "output_type": "execute_result"
    }
   ],
   "source": [
    "CSV.write(\"df.csv\", df)"
   ]
  },
  {
   "cell_type": "code",
   "execution_count": 227,
   "metadata": {},
   "outputs": [
    {
     "data": {
      "text/plain": [
       "8509-element Array{Float64,1}:\n",
       "  0.03508919172532374\n",
       "  0.017103186135781795\n",
       " -0.025760730735814124\n",
       " -0.017543245853564322\n",
       " -0.026905784694548112\n",
       " -0.027649769562807076\n",
       " -0.02843607191576385\n",
       "  0.019046940981703255\n",
       "  0.027906993414500002\n",
       "  0.01818117650810043\n",
       " -0.009049269425732831\n",
       " -0.009131907082367595\n",
       "  0.00913190708236767\n",
       "  ⋮\n",
       "  0.022530842369569027\n",
       "  0.007764957603369011\n",
       " -0.010463292079081211\n",
       "  0.014703715764070322\n",
       "  0.010076032903392112\n",
       " -0.029955684797830232\n",
       "  0.02011735957623063\n",
       " -0.02147624353162778\n",
       "  0.018858489052111377\n",
       "  0.0035679493280622644\n",
       "  0.024532743759769757\n",
       "  0.025572611488303927"
      ]
     },
     "execution_count": 227,
     "metadata": {},
     "output_type": "execute_result"
    }
   ],
   "source": [
    "# (b)"
   ]
  },
  {
   "cell_type": "code",
   "execution_count": 93,
   "metadata": {},
   "outputs": [
    {
     "data": {
      "text/plain": [
       "ss (generic function with 1 method)"
      ]
     },
     "execution_count": 93,
     "metadata": {},
     "output_type": "execute_result"
    }
   ],
   "source": [
    "ss(vec, m) = sum((vec .- m).^2)"
   ]
  },
  {
   "cell_type": "code",
   "execution_count": 131,
   "metadata": {},
   "outputs": [
    {
     "data": {
      "text/plain": [
       "16598"
      ]
     },
     "execution_count": 131,
     "metadata": {},
     "output_type": "execute_result"
    }
   ],
   "source": [
    "x = [\n",
    "709 659 713 726 660 645\n",
    "668 685 722 740 692 720\n",
    "659 685 666 684 678 750\n",
    "698 650 704 666 686 733]\n",
    "\n",
    "# m = x * \n",
    "# [\n",
    "#     1 1 0 0 0 0\n",
    "#     0 0 1 1 0 0\n",
    "#     0 0 0 0 1 1\n",
    "# ]' ./ 2 * \n",
    "# [\n",
    "#     1 1 0 0 0 0\n",
    "#     0 0 1 1 0 0\n",
    "#     0 0 0 0 1 1\n",
    "# ]\n",
    "\n",
    "mu = sum(x) \n",
    "\n",
    "# ss(x, mu)"
   ]
  },
  {
   "cell_type": "code",
   "execution_count": 81,
   "metadata": {},
   "outputs": [
    {
     "name": "stdout",
     "output_type": "stream",
     "text": [
      "\\overset{684.0}{\n",
      "\\overset{676.5}{\n",
      "\\overset{672.0}{\n",
      "\\overset{674.0}{\n",
      "\\overset{719.5}{\n",
      "\\overset{731.0}{\n",
      "\\overset{675.0}{\n",
      "\\overset{685.0}{\n",
      "\\overset{652.5}{\n",
      "\\overset{706.0}{\n",
      "\\overset{714.0}{\n",
      "\\overset{709.5}{\n"
     ]
    }
   ],
   "source": [
    "for i in x\n",
    "    println(\"\\\\overset{\", i, \"}{\")\n",
    "end"
   ]
  },
  {
   "cell_type": "code",
   "execution_count": null,
   "metadata": {},
   "outputs": [],
   "source": []
  },
  {
   "cell_type": "code",
   "execution_count": null,
   "metadata": {},
   "outputs": [],
   "source": []
  },
  {
   "cell_type": "code",
   "execution_count": 239,
   "metadata": {
    "collapsed": true,
    "jupyter": {
     "outputs_hidden": true
    }
   },
   "outputs": [
    {
     "data": {
      "text/plain": [
       "8510×5 Array{Any,2}:\n",
       "   \"x\"           \"d\"          \"|d|\"           \"r\"       \"r±\"\n",
       "  6.05202e-5    6.05202e-5   6.05202e-5      1.0       1.0\n",
       " -7.96319e-5   -7.96319e-5   7.96319e-5      2.0      -2.0\n",
       " -7.9694e-5    -7.9694e-5    7.9694e-5       3.0      -3.0\n",
       "  0.000116689   0.000116689  0.000116689     4.0       4.0\n",
       "  0.000116976   0.000116976  0.000116976     5.0       5.0\n",
       "  0.000137343   0.000137343  0.000137343     6.0       6.0\n",
       " -0.000142247  -0.000142247  0.000142247     7.0      -7.0\n",
       "  0.000142816   0.000142816  0.000142816     8.0       8.0\n",
       " -0.000144569  -0.000144569  0.000144569     9.0      -9.0\n",
       "  0.000146057   0.000146057  0.000146057    10.0      10.0\n",
       " -0.00015501   -0.00015501   0.00015501     11.0     -11.0\n",
       "  0.000157337   0.000157337  0.000157337    12.0      12.0\n",
       "  ⋮                                                \n",
       " -0.12574      -0.12574      0.12574      8498.0   -8498.0\n",
       "  0.132929      0.132929     0.132929     8499.0    8499.0\n",
       "  0.146328      0.146328     0.146328     8500.0    8500.0\n",
       " -0.147453     -0.147453     0.147453     8501.0   -8501.0\n",
       " -0.15631      -0.15631      0.15631      8502.0   -8502.0\n",
       " -0.159453     -0.159453     0.159453     8503.0   -8503.0\n",
       "  0.16525       0.16525      0.16525      8504.0    8504.0\n",
       " -0.169577     -0.169577     0.169577     8505.0   -8505.0\n",
       "  0.170626      0.170626     0.170626     8506.0    8506.0\n",
       "  0.178692      0.178692     0.178692     8507.0    8507.0\n",
       " -0.206445     -0.206445     0.206445     8508.0   -8508.0\n",
       " -0.358332     -0.358332     0.358332     8509.0   -8509.0"
      ]
     },
     "metadata": {},
     "output_type": "display_data"
    }
   ],
   "source": [
    "x̃ = [e for e in x if e != 0]\n",
    "d̃ = x̃ .- 0\n",
    "p = sortperm(abs.(d̃))\n",
    "\n",
    "arr = [x̃[p] d̃[p] abs.(d̃)[p] rank(abs.(d̃)[p]) rank(abs.(d̃)[p]) .* sign.(d̃[p])]\n",
    "display([\n",
    "    \"x\" \"d\" \"|d|\" \"r\" \"r±\"\n",
    "    arr\n",
    "])"
   ]
  },
  {
   "cell_type": "code",
   "execution_count": 236,
   "metadata": {},
   "outputs": [
    {
     "data": {
      "text/plain": [
       "4.3353220673529975"
      ]
     },
     "execution_count": 236,
     "metadata": {},
     "output_type": "execute_result"
    }
   ],
   "source": [
    "k = size(x̃, 1)\n",
    "t = sum(arr[:,end]) / sqrt(k * (k + 1) * (2 * k + 1) / 6)"
   ]
  },
  {
   "cell_type": "code",
   "execution_count": null,
   "metadata": {},
   "outputs": [],
   "source": [
    "# (c)"
   ]
  },
  {
   "cell_type": "code",
   "execution_count": 240,
   "metadata": {},
   "outputs": [
    {
     "data": {
      "text/plain": [
       "177.10853149085634"
      ]
     },
     "execution_count": 240,
     "metadata": {},
     "output_type": "execute_result"
    }
   ],
   "source": [
    "t = mean(x) / ( var(x) / sqrt(size(x, 1)) )"
   ]
  },
  {
   "cell_type": "code",
   "execution_count": null,
   "metadata": {},
   "outputs": [],
   "source": [
    "# (d)"
   ]
  },
  {
   "cell_type": "code",
   "execution_count": 252,
   "metadata": {},
   "outputs": [
    {
     "data": {
      "text/plain": [
       "641.1091545256396"
      ]
     },
     "execution_count": 252,
     "metadata": {},
     "output_type": "execute_result"
    }
   ],
   "source": [
    "obs = [\n",
    "count(r->r<-0.001, x)\n",
    "count(r->-0.001<=r<-0.0004, x)\n",
    "count(r->-0.0004<=r<0, x)\n",
    "count(r->0<=r<0.0004, x)\n",
    "count(r->0.0004<=r<0.001, x)\n",
    "count(r->r>=0.001, x)\n",
    "]\n",
    "exp = [0.48; 0.012; 0.008] .* size(x, 1)\n",
    "exp = [exp; reverse(exp)]\n",
    "q = sum( (obs .- exp) .^2 ./ exp )"
   ]
  },
  {
   "cell_type": "code",
   "execution_count": 253,
   "metadata": {},
   "outputs": [],
   "source": [
    "# (e)"
   ]
  },
  {
   "cell_type": "code",
   "execution_count": 257,
   "metadata": {},
   "outputs": [
    {
     "data": {
      "text/plain": [
       "0.0008868566305898707"
      ]
     },
     "execution_count": 257,
     "metadata": {},
     "output_type": "execute_result"
    }
   ],
   "source": [
    "x̄ = mean(x)"
   ]
  },
  {
   "cell_type": "code",
   "execution_count": 261,
   "metadata": {},
   "outputs": [
    {
     "data": {
      "text/plain": [
       "0.0004675170547290336"
      ]
     },
     "execution_count": 261,
     "metadata": {},
     "output_type": "execute_result"
    }
   ],
   "source": [
    "s² = var(x)"
   ]
  },
  {
   "cell_type": "code",
   "execution_count": 262,
   "metadata": {},
   "outputs": [
    {
     "data": {
      "text/plain": [
       "0.02162214269514087"
      ]
     },
     "execution_count": 262,
     "metadata": {},
     "output_type": "execute_result"
    }
   ],
   "source": [
    "s = sqrt(s²)"
   ]
  },
  {
   "cell_type": "code",
   "execution_count": 266,
   "metadata": {},
   "outputs": [
    {
     "data": {
      "text/plain": [
       "723.0371674285628"
      ]
     },
     "execution_count": 266,
     "metadata": {},
     "output_type": "execute_result"
    }
   ],
   "source": [
    "exp = [0.4651; 0.011; 0.0074;0.0074;0.0111;0.4979] .* size(x, 1)\n",
    "q = sum( (obs .- exp) .^2 ./ exp )"
   ]
  },
  {
   "cell_type": "code",
   "execution_count": null,
   "metadata": {},
   "outputs": [],
   "source": []
  }
 ],
 "metadata": {
  "kernelspec": {
   "display_name": "Julia 1.5.2",
   "language": "julia",
   "name": "julia-1.5"
  },
  "language_info": {
   "file_extension": ".jl",
   "mimetype": "application/julia",
   "name": "julia",
   "version": "1.5.2"
  }
 },
 "nbformat": 4,
 "nbformat_minor": 4
}
