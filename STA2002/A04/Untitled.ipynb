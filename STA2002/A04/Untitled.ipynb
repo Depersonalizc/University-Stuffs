{
 "cells": [
  {
   "cell_type": "code",
   "execution_count": 2,
   "metadata": {},
   "outputs": [],
   "source": [
    "using CSV\n",
    "using Distributions\n",
    "using Plots"
   ]
  },
  {
   "cell_type": "code",
   "execution_count": 6,
   "metadata": {},
   "outputs": [
    {
     "data": {
      "text/plain": [
       "11.274999999999999"
      ]
     },
     "execution_count": 6,
     "metadata": {},
     "output_type": "execute_result"
    }
   ],
   "source": [
    "0.75*11.1+0.25*11.8"
   ]
  },
  {
   "cell_type": "code",
   "execution_count": 3,
   "metadata": {},
   "outputs": [
    {
     "data": {
      "text/plain": [
       "11.25"
      ]
     },
     "execution_count": 3,
     "metadata": {},
     "output_type": "execute_result"
    }
   ],
   "source": [
    "sum(\n",
    "binomial(15,n) * 0.5^(14-k) for\n",
    "k in i : j - 1"
   ]
  },
  {
   "cell_type": "code",
   "execution_count": 7,
   "metadata": {},
   "outputs": [
    {
     "data": {
      "text/plain": [
       "P (generic function with 1 method)"
      ]
     },
     "execution_count": 7,
     "metadata": {},
     "output_type": "execute_result"
    }
   ],
   "source": [
    "P(i,j,p) = sum(\n",
    "binomial(14,k) * p^k * (1-p)^(14-k) for\n",
    "k in i : j - 1\n",
    ")"
   ]
  },
  {
   "cell_type": "code",
   "execution_count": 11,
   "metadata": {},
   "outputs": [
    {
     "data": {
      "text/plain": [
       "0.8607608713209629"
      ]
     },
     "execution_count": 11,
     "metadata": {},
     "output_type": "execute_result"
    }
   ],
   "source": [
    "P(8,13,0.75)"
   ]
  },
  {
   "cell_type": "code",
   "execution_count": 1,
   "metadata": {},
   "outputs": [
    {
     "data": {
      "text/plain": [
       "0.21197509765625"
      ]
     },
     "execution_count": 1,
     "metadata": {},
     "output_type": "execute_result"
    }
   ],
   "source": [
    "sum(\n",
    "binomial(14,n) * 0.5^(14) for\n",
    "n in 9 : 14\n",
    ")"
   ]
  },
  {
   "cell_type": "code",
   "execution_count": 2,
   "metadata": {},
   "outputs": [
    {
     "data": {
      "text/plain": [
       "1×14 Array{Int64,2}:\n",
       " 6  12  8  15  7  8  12  6  10  13  11  11  10  10"
      ]
     },
     "execution_count": 2,
     "metadata": {},
     "output_type": "execute_result"
    }
   ],
   "source": [
    "X = [6 12 8 15 7 8 12 6 10 13 11 11 10 10]"
   ]
  },
  {
   "cell_type": "code",
   "execution_count": 3,
   "metadata": {
    "collapsed": true,
    "jupyter": {
     "outputs_hidden": true
    }
   },
   "outputs": [
    {
     "data": {
      "text/plain": [
       "14-element Array{Int64,1}:\n",
       "  6\n",
       " 12\n",
       "  8\n",
       " 15\n",
       "  7\n",
       "  8\n",
       " 12\n",
       "  6\n",
       " 10\n",
       " 13\n",
       " 11\n",
       " 11\n",
       " 10\n",
       " 10"
      ]
     },
     "execution_count": 3,
     "metadata": {},
     "output_type": "execute_result"
    }
   ],
   "source": [
    "X = vec(X)"
   ]
  },
  {
   "cell_type": "code",
   "execution_count": 4,
   "metadata": {},
   "outputs": [
    {
     "data": {
      "text/plain": [
       "9"
      ]
     },
     "execution_count": 4,
     "metadata": {},
     "output_type": "execute_result"
    }
   ],
   "source": [
    "count(x->x>9, X)"
   ]
  },
  {
   "cell_type": "code",
   "execution_count": 5,
   "metadata": {},
   "outputs": [
    {
     "data": {
      "text/plain": [
       "14-element Array{Int64,1}:\n",
       " -3\n",
       "  3\n",
       " -1\n",
       "  6\n",
       " -2\n",
       " -1\n",
       "  3\n",
       " -3\n",
       "  1\n",
       "  4\n",
       "  2\n",
       "  2\n",
       "  1\n",
       "  1"
      ]
     },
     "execution_count": 5,
     "metadata": {},
     "output_type": "execute_result"
    }
   ],
   "source": [
    "D = X .- 9"
   ]
  },
  {
   "cell_type": "code",
   "execution_count": 6,
   "metadata": {},
   "outputs": [
    {
     "data": {
      "text/plain": [
       "14-element Array{Int64,1}:\n",
       "  3\n",
       "  6\n",
       "  9\n",
       " 13\n",
       " 14\n",
       "  5\n",
       " 11\n",
       " 12\n",
       "  1\n",
       "  2\n",
       "  7\n",
       "  8\n",
       " 10\n",
       "  4"
      ]
     },
     "execution_count": 6,
     "metadata": {},
     "output_type": "execute_result"
    }
   ],
   "source": [
    "p = sortperm(abs.(D))"
   ]
  },
  {
   "cell_type": "code",
   "execution_count": 7,
   "metadata": {},
   "outputs": [
    {
     "data": {
      "text/plain": [
       "rank (generic function with 1 method)"
      ]
     },
     "execution_count": 7,
     "metadata": {},
     "output_type": "execute_result"
    }
   ],
   "source": [
    "function rank(absD)\n",
    "    len = size(absD)[1]\n",
    "    rank = zeros(len)\n",
    "    i = 1\n",
    "    while i <= len\n",
    "        if i == len\n",
    "            rank[i] = i\n",
    "            break\n",
    "        end\n",
    "        val = absD[i]\n",
    "        tie = 1\n",
    "        while absD[i + tie] == val\n",
    "            tie += 1\n",
    "        end\n",
    "        rank[i:i+tie-1] .= sum(i:i+tie-1) / tie\n",
    "        i += tie\n",
    "    end\n",
    "    return rank\n",
    "end"
   ]
  },
  {
   "cell_type": "code",
   "execution_count": 8,
   "metadata": {
    "collapsed": true,
    "jupyter": {
     "outputs_hidden": true
    }
   },
   "outputs": [
    {
     "data": {
      "text/plain": [
       "14×5 Array{Float64,2}:\n",
       "  8.0  -1.0  1.0   3.0   -3.0\n",
       "  8.0  -1.0  1.0   3.0   -3.0\n",
       " 10.0   1.0  1.0   3.0    3.0\n",
       " 10.0   1.0  1.0   3.0    3.0\n",
       " 10.0   1.0  1.0   3.0    3.0\n",
       "  7.0  -2.0  2.0   7.0   -7.0\n",
       " 11.0   2.0  2.0   7.0    7.0\n",
       " 11.0   2.0  2.0   7.0    7.0\n",
       "  6.0  -3.0  3.0  10.5  -10.5\n",
       " 12.0   3.0  3.0  10.5   10.5\n",
       " 12.0   3.0  3.0  10.5   10.5\n",
       "  6.0  -3.0  3.0  10.5  -10.5\n",
       " 13.0   4.0  4.0  13.0   13.0\n",
       " 15.0   6.0  6.0  14.0   14.0"
      ]
     },
     "execution_count": 8,
     "metadata": {},
     "output_type": "execute_result"
    }
   ],
   "source": [
    "arr = [X[p] D[p] abs.(D)[p] rank(abs.(D)[p]) rank(abs.(D)[p]) .* sign.(D[p])]"
   ]
  },
  {
   "cell_type": "code",
   "execution_count": 113,
   "metadata": {},
   "outputs": [
    {
     "data": {
      "text/plain": [
       "14×5 Array{Float64,2}:\n",
       "  7.5  -0.5  0.5   1.0  -1.0\n",
       "  8.7   0.7  0.7   2.0   2.0\n",
       "  7.1  -0.9  0.9   3.0  -3.0\n",
       "  9.2   1.2  1.2   4.0   4.0\n",
       "  6.3  -1.7  1.7   5.0  -5.0\n",
       "  9.8   1.8  1.8   6.0   6.0\n",
       "  5.5  -2.5  2.5   7.5  -7.5\n",
       " 10.5   2.5  2.5   7.5   7.5\n",
       "  5.2  -2.8  2.8   9.0  -9.0\n",
       " 10.9   2.9  2.9  10.0  10.0\n",
       " 11.1   3.1  3.1  11.0  11.0\n",
       " 11.8   3.8  3.8  12.0  12.0\n",
       " 12.7   4.7  4.7  13.0  13.0\n",
       " 14.4   6.4  6.4  14.0  14.0"
      ]
     },
     "metadata": {},
     "output_type": "display_data"
    }
   ],
   "source": [
    "display(arr)"
   ]
  },
  {
   "cell_type": "code",
   "execution_count": 9,
   "metadata": {},
   "outputs": [
    {
     "data": {
      "text/plain": [
       "15×5 Array{Any,2}:\n",
       "   \"x\"    \"d\"   \"|d|\"    \"r\"     \"r±\"\n",
       "  8.0   -1.0   1.0      3.0    -3.0\n",
       "  8.0   -1.0   1.0      3.0    -3.0\n",
       " 10.0    1.0   1.0      3.0     3.0\n",
       " 10.0    1.0   1.0      3.0     3.0\n",
       " 10.0    1.0   1.0      3.0     3.0\n",
       "  7.0   -2.0   2.0      7.0    -7.0\n",
       " 11.0    2.0   2.0      7.0     7.0\n",
       " 11.0    2.0   2.0      7.0     7.0\n",
       "  6.0   -3.0   3.0     10.5   -10.5\n",
       " 12.0    3.0   3.0     10.5    10.5\n",
       " 12.0    3.0   3.0     10.5    10.5\n",
       "  6.0   -3.0   3.0     10.5   -10.5\n",
       " 13.0    4.0   4.0     13.0    13.0\n",
       " 15.0    6.0   6.0     14.0    14.0"
      ]
     },
     "metadata": {},
     "output_type": "display_data"
    }
   ],
   "source": [
    "display([\n",
    "    \"x\" \"d\" \"|d|\" \"r\" \"r±\"\n",
    "    arr\n",
    "        ])"
   ]
  },
  {
   "cell_type": "code",
   "execution_count": 12,
   "metadata": {},
   "outputs": [
    {
     "data": {
      "text/plain": [
       "37.0"
      ]
     },
     "execution_count": 12,
     "metadata": {},
     "output_type": "execute_result"
    }
   ],
   "source": [
    "sum(rank(abs.(D)[p]) .* sign.(D[p]))"
   ]
  },
  {
   "cell_type": "code",
   "execution_count": 13,
   "metadata": {},
   "outputs": [
    {
     "data": {
      "text/plain": [
       "1.0985884360051028"
      ]
     },
     "execution_count": 13,
     "metadata": {},
     "output_type": "execute_result"
    }
   ],
   "source": [
    "n = 14\n",
    "35/\n",
    "sqrt(\n",
    "n*(n+1)*(2*n+1)/6\n",
    ")"
   ]
  },
  {
   "cell_type": "code",
   "execution_count": 125,
   "metadata": {},
   "outputs": [],
   "source": [
    "using Statistics"
   ]
  },
  {
   "cell_type": "code",
   "execution_count": 144,
   "metadata": {},
   "outputs": [
    {
     "data": {
      "text/plain": [
       "4.660451500000938"
      ]
     },
     "execution_count": 144,
     "metadata": {},
     "output_type": "execute_result"
    }
   ],
   "source": [
    "mean(X) - 9 / (var(X) / sqrt(15))"
   ]
  },
  {
   "cell_type": "code",
   "execution_count": 130,
   "metadata": {},
   "outputs": [
    {
     "data": {
      "text/plain": [
       "2.0"
      ]
     },
     "execution_count": 130,
     "metadata": {},
     "output_type": "execute_result"
    }
   ],
   "source": [
    "var([0 2])"
   ]
  },
  {
   "cell_type": "code",
   "execution_count": 145,
   "metadata": {},
   "outputs": [
    {
     "data": {
      "text/plain": [
       "1×4 Array{Int64,2}:\n",
       " 340  395  358  268"
      ]
     },
     "execution_count": 145,
     "metadata": {},
     "output_type": "execute_result"
    }
   ],
   "source": [
    "pred = 340.25\n",
    "obs = [340 395 358 268]"
   ]
  },
  {
   "cell_type": "code",
   "execution_count": 146,
   "metadata": {},
   "outputs": [
    {
     "data": {
      "text/plain": [
       "25.07788390889052"
      ]
     },
     "execution_count": 146,
     "metadata": {},
     "output_type": "execute_result"
    }
   ],
   "source": [
    "q = sum((obs .- pred) .^ 2 ./ pred)"
   ]
  },
  {
   "cell_type": "code",
   "execution_count": null,
   "metadata": {},
   "outputs": [],
   "source": []
  },
  {
   "cell_type": "code",
   "execution_count": null,
   "metadata": {},
   "outputs": [],
   "source": []
  },
  {
   "cell_type": "code",
   "execution_count": null,
   "metadata": {},
   "outputs": [],
   "source": []
  },
  {
   "cell_type": "code",
   "execution_count": null,
   "metadata": {},
   "outputs": [],
   "source": []
  },
  {
   "cell_type": "code",
   "execution_count": 159,
   "metadata": {},
   "outputs": [],
   "source": [
    "using CSV"
   ]
  },
  {
   "cell_type": "code",
   "execution_count": 155,
   "metadata": {},
   "outputs": [],
   "source": [
    "# (a)"
   ]
  },
  {
   "cell_type": "code",
   "execution_count": 222,
   "metadata": {
    "collapsed": true,
    "jupyter": {
     "outputs_hidden": true
    }
   },
   "outputs": [
    {
     "data": {
      "text/plain": [
       "8717-element Array{Float64,1}:\n",
       "  0.03508919172532374\n",
       "  0.017103186135781795\n",
       " -0.025760730735814124\n",
       " -0.017543245853564322\n",
       " -0.026905784694548112\n",
       " -0.027649769562807076\n",
       " -0.02843607191576385\n",
       "  0.019046940981703255\n",
       "  0.027906993414500002\n",
       "  0.01818117650810043\n",
       " -0.009049269425732831\n",
       " -0.009131907082367595\n",
       "  0.00913190708236767\n",
       "  ⋮\n",
       "  0.022530842369569027\n",
       "  0.007764957603369011\n",
       " -0.010463292079081211\n",
       "  0.014703715764070322\n",
       "  0.010076032903392112\n",
       " -0.029955684797830232\n",
       "  0.02011735957623063\n",
       " -0.02147624353162778\n",
       "  0.018858489052111377\n",
       "  0.0035679493280622644\n",
       "  0.024532743759769757\n",
       "  0.025572611488303927"
      ]
     },
     "execution_count": 222,
     "metadata": {},
     "output_type": "execute_result"
    }
   ],
   "source": [
    "s = CSV.read(\"MSFT_stock.csv\")[2]\n",
    "x = log.(s[i] / s[i-1] for i in 2:size(s)[1])"
   ]
  },
  {
   "cell_type": "code",
   "execution_count": 229,
   "metadata": {},
   "outputs": [
    {
     "data": {
      "text/plain": [
       "4391"
      ]
     },
     "execution_count": 229,
     "metadata": {},
     "output_type": "execute_result"
    }
   ],
   "source": [
    "n⁺ = count(r->r>0, x)"
   ]
  },
  {
   "cell_type": "code",
   "execution_count": 227,
   "metadata": {
    "collapsed": true,
    "jupyter": {
     "outputs_hidden": true
    }
   },
   "outputs": [
    {
     "data": {
      "text/plain": [
       "8509-element Array{Float64,1}:\n",
       "  0.03508919172532374\n",
       "  0.017103186135781795\n",
       " -0.025760730735814124\n",
       " -0.017543245853564322\n",
       " -0.026905784694548112\n",
       " -0.027649769562807076\n",
       " -0.02843607191576385\n",
       "  0.019046940981703255\n",
       "  0.027906993414500002\n",
       "  0.01818117650810043\n",
       " -0.009049269425732831\n",
       " -0.009131907082367595\n",
       "  0.00913190708236767\n",
       "  ⋮\n",
       "  0.022530842369569027\n",
       "  0.007764957603369011\n",
       " -0.010463292079081211\n",
       "  0.014703715764070322\n",
       "  0.010076032903392112\n",
       " -0.029955684797830232\n",
       "  0.02011735957623063\n",
       " -0.02147624353162778\n",
       "  0.018858489052111377\n",
       "  0.0035679493280622644\n",
       "  0.024532743759769757\n",
       "  0.025572611488303927"
      ]
     },
     "execution_count": 227,
     "metadata": {},
     "output_type": "execute_result"
    }
   ],
   "source": [
    "# (b)"
   ]
  },
  {
   "cell_type": "code",
   "execution_count": 239,
   "metadata": {
    "collapsed": true,
    "jupyter": {
     "outputs_hidden": true
    }
   },
   "outputs": [
    {
     "data": {
      "text/plain": [
       "8510×5 Array{Any,2}:\n",
       "   \"x\"           \"d\"          \"|d|\"           \"r\"       \"r±\"\n",
       "  6.05202e-5    6.05202e-5   6.05202e-5      1.0       1.0\n",
       " -7.96319e-5   -7.96319e-5   7.96319e-5      2.0      -2.0\n",
       " -7.9694e-5    -7.9694e-5    7.9694e-5       3.0      -3.0\n",
       "  0.000116689   0.000116689  0.000116689     4.0       4.0\n",
       "  0.000116976   0.000116976  0.000116976     5.0       5.0\n",
       "  0.000137343   0.000137343  0.000137343     6.0       6.0\n",
       " -0.000142247  -0.000142247  0.000142247     7.0      -7.0\n",
       "  0.000142816   0.000142816  0.000142816     8.0       8.0\n",
       " -0.000144569  -0.000144569  0.000144569     9.0      -9.0\n",
       "  0.000146057   0.000146057  0.000146057    10.0      10.0\n",
       " -0.00015501   -0.00015501   0.00015501     11.0     -11.0\n",
       "  0.000157337   0.000157337  0.000157337    12.0      12.0\n",
       "  ⋮                                                \n",
       " -0.12574      -0.12574      0.12574      8498.0   -8498.0\n",
       "  0.132929      0.132929     0.132929     8499.0    8499.0\n",
       "  0.146328      0.146328     0.146328     8500.0    8500.0\n",
       " -0.147453     -0.147453     0.147453     8501.0   -8501.0\n",
       " -0.15631      -0.15631      0.15631      8502.0   -8502.0\n",
       " -0.159453     -0.159453     0.159453     8503.0   -8503.0\n",
       "  0.16525       0.16525      0.16525      8504.0    8504.0\n",
       " -0.169577     -0.169577     0.169577     8505.0   -8505.0\n",
       "  0.170626      0.170626     0.170626     8506.0    8506.0\n",
       "  0.178692      0.178692     0.178692     8507.0    8507.0\n",
       " -0.206445     -0.206445     0.206445     8508.0   -8508.0\n",
       " -0.358332     -0.358332     0.358332     8509.0   -8509.0"
      ]
     },
     "metadata": {},
     "output_type": "display_data"
    }
   ],
   "source": [
    "x̃ = [e for e in x if e != 0]\n",
    "d̃ = x̃ .- 0\n",
    "p = sortperm(abs.(d̃))\n",
    "\n",
    "arr = [x̃[p] d̃[p] abs.(d̃)[p] rank(abs.(d̃)[p]) rank(abs.(d̃)[p]) .* sign.(d̃[p])]\n",
    "display([\n",
    "    \"x\" \"d\" \"|d|\" \"r\" \"r±\"\n",
    "    arr\n",
    "])"
   ]
  },
  {
   "cell_type": "code",
   "execution_count": 236,
   "metadata": {},
   "outputs": [
    {
     "data": {
      "text/plain": [
       "4.3353220673529975"
      ]
     },
     "execution_count": 236,
     "metadata": {},
     "output_type": "execute_result"
    }
   ],
   "source": [
    "k = size(x̃, 1)\n",
    "t = sum(arr[:,end]) / sqrt(k * (k + 1) * (2 * k + 1) / 6)"
   ]
  },
  {
   "cell_type": "code",
   "execution_count": null,
   "metadata": {},
   "outputs": [],
   "source": [
    "# (c)"
   ]
  },
  {
   "cell_type": "code",
   "execution_count": 240,
   "metadata": {},
   "outputs": [
    {
     "data": {
      "text/plain": [
       "177.10853149085634"
      ]
     },
     "execution_count": 240,
     "metadata": {},
     "output_type": "execute_result"
    }
   ],
   "source": [
    "t = mean(x) / ( var(x) / sqrt(size(x, 1)) )"
   ]
  },
  {
   "cell_type": "code",
   "execution_count": null,
   "metadata": {},
   "outputs": [],
   "source": [
    "# (d)"
   ]
  },
  {
   "cell_type": "code",
   "execution_count": 252,
   "metadata": {},
   "outputs": [
    {
     "data": {
      "text/plain": [
       "641.1091545256396"
      ]
     },
     "execution_count": 252,
     "metadata": {},
     "output_type": "execute_result"
    }
   ],
   "source": [
    "obs = [\n",
    "count(r->r<-0.001, x)\n",
    "count(r->-0.001<=r<-0.0004, x)\n",
    "count(r->-0.0004<=r<0, x)\n",
    "count(r->0<=r<0.0004, x)\n",
    "count(r->0.0004<=r<0.001, x)\n",
    "count(r->r>=0.001, x)\n",
    "]\n",
    "exp = [0.48; 0.012; 0.008] .* size(x, 1)\n",
    "exp = [exp; reverse(exp)]\n",
    "q = sum( (obs .- exp) .^2 ./ exp )"
   ]
  },
  {
   "cell_type": "code",
   "execution_count": 253,
   "metadata": {},
   "outputs": [],
   "source": [
    "# (e)"
   ]
  },
  {
   "cell_type": "code",
   "execution_count": 257,
   "metadata": {},
   "outputs": [
    {
     "data": {
      "text/plain": [
       "0.0008868566305898707"
      ]
     },
     "execution_count": 257,
     "metadata": {},
     "output_type": "execute_result"
    }
   ],
   "source": [
    "x̄ = mean(x)"
   ]
  },
  {
   "cell_type": "code",
   "execution_count": 261,
   "metadata": {},
   "outputs": [
    {
     "data": {
      "text/plain": [
       "0.0004675170547290336"
      ]
     },
     "execution_count": 261,
     "metadata": {},
     "output_type": "execute_result"
    }
   ],
   "source": [
    "s² = var(x)"
   ]
  },
  {
   "cell_type": "code",
   "execution_count": 262,
   "metadata": {},
   "outputs": [
    {
     "data": {
      "text/plain": [
       "0.02162214269514087"
      ]
     },
     "execution_count": 262,
     "metadata": {},
     "output_type": "execute_result"
    }
   ],
   "source": [
    "s = sqrt(s²)"
   ]
  },
  {
   "cell_type": "code",
   "execution_count": 266,
   "metadata": {},
   "outputs": [
    {
     "data": {
      "text/plain": [
       "723.0371674285628"
      ]
     },
     "execution_count": 266,
     "metadata": {},
     "output_type": "execute_result"
    }
   ],
   "source": [
    "exp = [0.4651; 0.011; 0.0074;0.0074;0.0111;0.4979] .* size(x, 1)\n",
    "q = sum( (obs .- exp) .^2 ./ exp )"
   ]
  },
  {
   "cell_type": "code",
   "execution_count": null,
   "metadata": {},
   "outputs": [],
   "source": []
  }
 ],
 "metadata": {
  "kernelspec": {
   "display_name": "Julia 1.5.2",
   "language": "julia",
   "name": "julia-1.5"
  },
  "language_info": {
   "file_extension": ".jl",
   "mimetype": "application/julia",
   "name": "julia",
   "version": "1.5.2"
  }
 },
 "nbformat": 4,
 "nbformat_minor": 4
}
