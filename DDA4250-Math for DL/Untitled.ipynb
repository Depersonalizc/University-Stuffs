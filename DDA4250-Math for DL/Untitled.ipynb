{
 "cells": [
  {
   "cell_type": "code",
   "execution_count": 2,
   "id": "earlier-columbia",
   "metadata": {},
   "outputs": [],
   "source": [
    "import torch\n",
    "from torch import nn\n",
    "import numpy as np\n",
    "import matplotlib.pyplot as plt"
   ]
  },
  {
   "cell_type": "code",
   "execution_count": 3,
   "id": "sustained-gossip",
   "metadata": {},
   "outputs": [],
   "source": [
    "n = 100"
   ]
  },
  {
   "cell_type": "code",
   "execution_count": 83,
   "id": "certified-pickup",
   "metadata": {},
   "outputs": [],
   "source": [
    "A = np.random.randn(n, n)\n",
    "At = torch.Tensor(A).cuda()"
   ]
  },
  {
   "cell_type": "code",
   "execution_count": 5,
   "id": "prospective-catering",
   "metadata": {},
   "outputs": [],
   "source": [
    "def gen_data(samples: int = 100000) -> (np.array, np.array):\n",
    "    x = np.random.rand(samples, n)\n",
    "    y = x @ A\n",
    "    return x, y"
   ]
  },
  {
   "cell_type": "code",
   "execution_count": 29,
   "id": "virgin-possible",
   "metadata": {},
   "outputs": [],
   "source": [
    "class Model(nn.Module):\n",
    "\n",
    "    def __init__(self, dim, nlayers):\n",
    "        super().__init__()At\n",
    "        self.layers = nn.Sequential(\n",
    "            *[nn.Linear(dim, dim, bias=False) \n",
    "              for _ in range(nlayers)]\n",
    "        )\n",
    "    \n",
    "    def forward(self, x):\n",
    "        return self.layers(x)"
   ]
  },
  {
   "cell_type": "code",
   "execution_count": 86,
   "id": "fancy-trout",
   "metadata": {},
   "outputs": [
    {
     "name": "stdout",
     "output_type": "stream",
     "text": [
      "Parameter containing:\n",
      "tensor([[1., 0., 0.,  ..., 0., 0., 0.],\n",
      "        [0., 1., 0.,  ..., 0., 0., 0.],\n",
      "        [0., 0., 1.,  ..., 0., 0., 0.],\n",
      "        ...,\n",
      "        [0., 0., 0.,  ..., 1., 0., 0.],\n",
      "        [0., 0., 0.,  ..., 0., 1., 0.],\n",
      "        [0., 0., 0.,  ..., 0., 0., 1.]], device='cuda:0', requires_grad=True)\n",
      "Parameter containing:\n",
      "tensor([[1., 0., 0.,  ..., 0., 0., 0.],\n",
      "        [0., 1., 0.,  ..., 0., 0., 0.],\n",
      "        [0., 0., 1.,  ..., 0., 0., 0.],\n",
      "        ...,\n",
      "        [0., 0., 0.,  ..., 1., 0., 0.],\n",
      "        [0., 0., 0.,  ..., 0., 1., 0.],\n",
      "        [0., 0., 0.,  ..., 0., 0., 1.]], device='cuda:0', requires_grad=True)\n",
      "Parameter containing:\n",
      "tensor([[1., 0., 0.,  ..., 0., 0., 0.],\n",
      "        [0., 1., 0.,  ..., 0., 0., 0.],\n",
      "        [0., 0., 1.,  ..., 0., 0., 0.],\n",
      "        ...,\n",
      "        [0., 0., 0.,  ..., 1., 0., 0.],\n",
      "        [0., 0., 0.,  ..., 0., 1., 0.],\n",
      "        [0., 0., 0.,  ..., 0., 0., 1.]], device='cuda:0', requires_grad=True)\n",
      "Parameter containing:\n",
      "tensor([[1., 0., 0.,  ..., 0., 0., 0.],\n",
      "        [0., 1., 0.,  ..., 0., 0., 0.],\n",
      "        [0., 0., 1.,  ..., 0., 0., 0.],\n",
      "        ...,\n",
      "        [0., 0., 0.,  ..., 1., 0., 0.],\n",
      "        [0., 0., 0.,  ..., 0., 1., 0.],\n",
      "        [0., 0., 0.,  ..., 0., 0., 1.]], device='cuda:0', requires_grad=True)\n",
      "Parameter containing:\n",
      "tensor([[1., 0., 0.,  ..., 0., 0., 0.],\n",
      "        [0., 1., 0.,  ..., 0., 0., 0.],\n",
      "        [0., 0., 1.,  ..., 0., 0., 0.],\n",
      "        ...,\n",
      "        [0., 0., 0.,  ..., 1., 0., 0.],\n",
      "        [0., 0., 0.,  ..., 0., 1., 0.],\n",
      "        [0., 0., 0.,  ..., 0., 0., 1.]], device='cuda:0', requires_grad=True)\n",
      "Parameter containing:\n",
      "tensor([[1., 0., 0.,  ..., 0., 0., 0.],\n",
      "        [0., 1., 0.,  ..., 0., 0., 0.],\n",
      "        [0., 0., 1.,  ..., 0., 0., 0.],\n",
      "        ...,\n",
      "        [0., 0., 0.,  ..., 1., 0., 0.],\n",
      "        [0., 0., 0.,  ..., 0., 1., 0.],\n",
      "        [0., 0., 0.,  ..., 0., 0., 1.]], device='cuda:0', requires_grad=True)\n",
      "Parameter containing:\n",
      "tensor([[1., 0., 0.,  ..., 0., 0., 0.],\n",
      "        [0., 1., 0.,  ..., 0., 0., 0.],\n",
      "        [0., 0., 1.,  ..., 0., 0., 0.],\n",
      "        ...,\n",
      "        [0., 0., 0.,  ..., 1., 0., 0.],\n",
      "        [0., 0., 0.,  ..., 0., 1., 0.],\n",
      "        [0., 0., 0.,  ..., 0., 0., 1.]], device='cuda:0', requires_grad=True)\n",
      "Parameter containing:\n",
      "tensor([[1., 0., 0.,  ..., 0., 0., 0.],\n",
      "        [0., 1., 0.,  ..., 0., 0., 0.],\n",
      "        [0., 0., 1.,  ..., 0., 0., 0.],\n",
      "        ...,\n",
      "        [0., 0., 0.,  ..., 1., 0., 0.],\n",
      "        [0., 0., 0.,  ..., 0., 1., 0.],\n",
      "        [0., 0., 0.,  ..., 0., 0., 1.]], device='cuda:0', requires_grad=True)\n",
      "Parameter containing:\n",
      "tensor([[1., 0., 0.,  ..., 0., 0., 0.],\n",
      "        [0., 1., 0.,  ..., 0., 0., 0.],\n",
      "        [0., 0., 1.,  ..., 0., 0., 0.],\n",
      "        ...,\n",
      "        [0., 0., 0.,  ..., 1., 0., 0.],\n",
      "        [0., 0., 0.,  ..., 0., 1., 0.],\n",
      "        [0., 0., 0.,  ..., 0., 0., 1.]], device='cuda:0', requires_grad=True)\n",
      "Parameter containing:\n",
      "tensor([[1., 0., 0.,  ..., 0., 0., 0.],\n",
      "        [0., 1., 0.,  ..., 0., 0., 0.],\n",
      "        [0., 0., 1.,  ..., 0., 0., 0.],\n",
      "        ...,\n",
      "        [0., 0., 0.,  ..., 1., 0., 0.],\n",
      "        [0., 0., 0.,  ..., 0., 1., 0.],\n",
      "        [0., 0., 0.,  ..., 0., 0., 1.]], device='cuda:0', requires_grad=True)\n",
      "Parameter containing:\n",
      "tensor([[1., 0., 0.,  ..., 0., 0., 0.],\n",
      "        [0., 1., 0.,  ..., 0., 0., 0.],\n",
      "        [0., 0., 1.,  ..., 0., 0., 0.],\n",
      "        ...,\n",
      "        [0., 0., 0.,  ..., 1., 0., 0.],\n",
      "        [0., 0., 0.,  ..., 0., 1., 0.],\n",
      "        [0., 0., 0.,  ..., 0., 0., 1.]], device='cuda:0', requires_grad=True)\n",
      "Parameter containing:\n",
      "tensor([[1., 0., 0.,  ..., 0., 0., 0.],\n",
      "        [0., 1., 0.,  ..., 0., 0., 0.],\n",
      "        [0., 0., 1.,  ..., 0., 0., 0.],\n",
      "        ...,\n",
      "        [0., 0., 0.,  ..., 1., 0., 0.],\n",
      "        [0., 0., 0.,  ..., 0., 1., 0.],\n",
      "        [0., 0., 0.,  ..., 0., 0., 1.]], device='cuda:0', requires_grad=True)\n",
      "Parameter containing:\n",
      "tensor([[1., 0., 0.,  ..., 0., 0., 0.],\n",
      "        [0., 1., 0.,  ..., 0., 0., 0.],\n",
      "        [0., 0., 1.,  ..., 0., 0., 0.],\n",
      "        ...,\n",
      "        [0., 0., 0.,  ..., 1., 0., 0.],\n",
      "        [0., 0., 0.,  ..., 0., 1., 0.],\n",
      "        [0., 0., 0.,  ..., 0., 0., 1.]], device='cuda:0', requires_grad=True)\n",
      "Parameter containing:\n",
      "tensor([[1., 0., 0.,  ..., 0., 0., 0.],\n",
      "        [0., 1., 0.,  ..., 0., 0., 0.],\n",
      "        [0., 0., 1.,  ..., 0., 0., 0.],\n",
      "        ...,\n",
      "        [0., 0., 0.,  ..., 1., 0., 0.],\n",
      "        [0., 0., 0.,  ..., 0., 1., 0.],\n",
      "        [0., 0., 0.,  ..., 0., 0., 1.]], device='cuda:0', requires_grad=True)\n",
      "Parameter containing:\n",
      "tensor([[1., 0., 0.,  ..., 0., 0., 0.],\n",
      "        [0., 1., 0.,  ..., 0., 0., 0.],\n",
      "        [0., 0., 1.,  ..., 0., 0., 0.],\n",
      "        ...,\n",
      "        [0., 0., 0.,  ..., 1., 0., 0.],\n",
      "        [0., 0., 0.,  ..., 0., 1., 0.],\n",
      "        [0., 0., 0.,  ..., 0., 0., 1.]], device='cuda:0', requires_grad=True)\n",
      "Parameter containing:\n",
      "tensor([[1., 0., 0.,  ..., 0., 0., 0.],\n",
      "        [0., 1., 0.,  ..., 0., 0., 0.],\n",
      "        [0., 0., 1.,  ..., 0., 0., 0.],\n",
      "        ...,\n",
      "        [0., 0., 0.,  ..., 1., 0., 0.],\n",
      "        [0., 0., 0.,  ..., 0., 1., 0.],\n",
      "        [0., 0., 0.,  ..., 0., 0., 1.]], device='cuda:0', requires_grad=True)\n",
      "Parameter containing:\n",
      "tensor([[1., 0., 0.,  ..., 0., 0., 0.],\n",
      "        [0., 1., 0.,  ..., 0., 0., 0.],\n",
      "        [0., 0., 1.,  ..., 0., 0., 0.],\n",
      "        ...,\n",
      "        [0., 0., 0.,  ..., 1., 0., 0.],\n",
      "        [0., 0., 0.,  ..., 0., 1., 0.],\n",
      "        [0., 0., 0.,  ..., 0., 0., 1.]], device='cuda:0', requires_grad=True)\n",
      "Parameter containing:\n",
      "tensor([[1., 0., 0.,  ..., 0., 0., 0.],\n",
      "        [0., 1., 0.,  ..., 0., 0., 0.],\n",
      "        [0., 0., 1.,  ..., 0., 0., 0.],\n",
      "        ...,\n",
      "        [0., 0., 0.,  ..., 1., 0., 0.],\n",
      "        [0., 0., 0.,  ..., 0., 1., 0.],\n",
      "        [0., 0., 0.,  ..., 0., 0., 1.]], device='cuda:0', requires_grad=True)\n",
      "Parameter containing:\n",
      "tensor([[1., 0., 0.,  ..., 0., 0., 0.],\n",
      "        [0., 1., 0.,  ..., 0., 0., 0.],\n",
      "        [0., 0., 1.,  ..., 0., 0., 0.],\n",
      "        ...,\n",
      "        [0., 0., 0.,  ..., 1., 0., 0.],\n",
      "        [0., 0., 0.,  ..., 0., 1., 0.],\n",
      "        [0., 0., 0.,  ..., 0., 0., 1.]], device='cuda:0', requires_grad=True)\n",
      "Parameter containing:\n",
      "tensor([[1., 0., 0.,  ..., 0., 0., 0.],\n",
      "        [0., 1., 0.,  ..., 0., 0., 0.],\n",
      "        [0., 0., 1.,  ..., 0., 0., 0.],\n",
      "        ...,\n",
      "        [0., 0., 0.,  ..., 1., 0., 0.],\n",
      "        [0., 0., 0.,  ..., 0., 1., 0.],\n",
      "        [0., 0., 0.,  ..., 0., 0., 1.]], device='cuda:0', requires_grad=True)\n"
     ]
    }
   ],
   "source": [
    "for _ in model.parameters():\n",
    "    print(_)"
   ]
  },
  {
   "cell_type": "code",
   "execution_count": 90,
   "id": "antique-glasgow",
   "metadata": {},
   "outputs": [
    {
     "name": "stdout",
     "output_type": "stream",
     "text": [
      "tensor(100.5279, device='cuda:0')\n",
      "tensor(100.5249, device='cuda:0')\n",
      "tensor(100.5219, device='cuda:0')\n",
      "tensor(100.5188, device='cuda:0')\n",
      "tensor(100.5157, device='cuda:0')\n",
      "tensor(100.5127, device='cuda:0')\n",
      "tensor(100.5096, device='cuda:0')\n",
      "tensor(100.5065, device='cuda:0')\n",
      "tensor(100.5035, device='cuda:0')\n",
      "tensor(100.5004, device='cuda:0')\n",
      "tensor(100.4973, device='cuda:0')\n",
      "tensor(100.4942, device='cuda:0')\n",
      "tensor(100.4911, device='cuda:0')\n",
      "tensor(100.4880, device='cuda:0')\n",
      "tensor(100.4849, device='cuda:0')\n",
      "tensor(100.4818, device='cuda:0')\n",
      "tensor(100.4786, device='cuda:0')\n",
      "tensor(100.4755, device='cuda:0')\n",
      "tensor(100.4723, device='cuda:0')\n"
     ]
    },
    {
     "ename": "KeyboardInterrupt",
     "evalue": "",
     "output_type": "error",
     "traceback": [
      "\u001b[0;31m---------------------------------------------------------------------------\u001b[0m",
      "\u001b[0;31mKeyboardInterrupt\u001b[0m                         Traceback (most recent call last)",
      "\u001b[0;32m<ipython-input-90-6bd6d59339e1>\u001b[0m in \u001b[0;36m<module>\u001b[0;34m\u001b[0m\n\u001b[1;32m     19\u001b[0m     \u001b[0myt\u001b[0m \u001b[0;34m=\u001b[0m \u001b[0mxt\u001b[0m \u001b[0;34m@\u001b[0m \u001b[0mAt\u001b[0m\u001b[0;34m\u001b[0m\u001b[0;34m\u001b[0m\u001b[0m\n\u001b[1;32m     20\u001b[0m     \u001b[0mpred\u001b[0m \u001b[0;34m=\u001b[0m \u001b[0mmodel\u001b[0m\u001b[0;34m(\u001b[0m\u001b[0mxt\u001b[0m\u001b[0;34m)\u001b[0m\u001b[0;34m\u001b[0m\u001b[0;34m\u001b[0m\u001b[0m\n\u001b[0;32m---> 21\u001b[0;31m     \u001b[0mloss\u001b[0m \u001b[0;34m=\u001b[0m \u001b[0mtorch\u001b[0m\u001b[0;34m.\u001b[0m\u001b[0mnorm\u001b[0m\u001b[0;34m(\u001b[0m\u001b[0mpred\u001b[0m \u001b[0;34m-\u001b[0m \u001b[0myt\u001b[0m\u001b[0;34m)\u001b[0m\u001b[0;34m\u001b[0m\u001b[0;34m\u001b[0m\u001b[0m\n\u001b[0m\u001b[1;32m     22\u001b[0m     \u001b[0mmodel\u001b[0m\u001b[0;34m.\u001b[0m\u001b[0mzero_grad\u001b[0m\u001b[0;34m(\u001b[0m\u001b[0;34m)\u001b[0m\u001b[0;34m\u001b[0m\u001b[0;34m\u001b[0m\u001b[0m\n\u001b[1;32m     23\u001b[0m     \u001b[0mloss\u001b[0m\u001b[0;34m.\u001b[0m\u001b[0mbackward\u001b[0m\u001b[0;34m(\u001b[0m\u001b[0;34m)\u001b[0m\u001b[0;34m\u001b[0m\u001b[0;34m\u001b[0m\u001b[0m\n",
      "\u001b[0;31mKeyboardInterrupt\u001b[0m: "
     ]
    }
   ],
   "source": [
    "model = Model(dim=n, nlayers=5).cuda()\n",
    "\n",
    "optimizer = torch.optim.SGD(model.parameters(), lr=1e-6, momentum=0.9)\n",
    "# optimizer = torch.optim.Adam(model.parameters(), lr=1e-6)\n",
    "\n",
    "bsz = 100\n",
    "niters = 100000\n",
    "\n",
    "# Init weights at identity\n",
    "# with torch.no_grad():\n",
    "#     for layer in model.layers:\n",
    "#         layer.weight = nn.Parameter(torch.eye(*layer.weight.shape, device='cuda'))\n",
    "#     print(torch.allclose(model(xt), xt))\n",
    "\n",
    "# Training using SGD\n",
    "model.train()\n",
    "for i in range(niters):\n",
    "    xt = torch.randn(bsz, n).cuda()\n",
    "    yt = xt @ At\n",
    "    pred = model(xt)\n",
    "    loss = torch.norm(pred - yt)\n",
    "    model.zero_grad()\n",
    "    loss.backward()\n",
    "    optimizer.step()\n",
    "    if i % 500 == 0:\n",
    "        with torch.no_grad():\n",
    "            W = torch.eye(n).cuda()\n",
    "            for layer in model.layers:\n",
    "                W = layer.weight @ W\n",
    "#             print(W)\n",
    "            diff = W.T - torch.Tensor(A).cuda()\n",
    "            print(torch.norm(diff))"
   ]
  },
  {
   "cell_type": "code",
   "execution_count": 78,
   "id": "gentle-scoop",
   "metadata": {},
   "outputs": [
    {
     "data": {
      "text/plain": [
       "tensor([[ 1.1555, -0.9323,  0.3376,  ..., -1.5485,  1.0680,  0.3074],\n",
       "        [ 0.2144, -1.0693,  0.1969,  ...,  1.0020, -0.5260,  0.0681],\n",
       "        [-1.0021, -1.2606, -0.1730,  ...,  0.2601,  1.0599, -1.1471],\n",
       "        ...,\n",
       "        [-1.5374, -0.6431, -0.0801,  ..., -0.0371,  0.2346,  0.1878],\n",
       "        [-0.7548, -1.7594, -0.8051,  ...,  0.4508, -0.5758,  0.3078],\n",
       "        [-0.0044, -1.4124,  0.5957,  ..., -2.5750,  0.5862, -2.2354]],\n",
       "       device='cuda:0')"
      ]
     },
     "execution_count": 78,
     "metadata": {},
     "output_type": "execute_result"
    }
   ],
   "source": [
    "At"
   ]
  },
  {
   "cell_type": "code",
   "execution_count": 378,
   "id": "plain-clock",
   "metadata": {},
   "outputs": [
    {
     "data": {
      "text/plain": [
       "array([[0.10932015, 0.71752094, 0.60020477, ..., 0.63661339, 0.82869482,\n",
       "        0.11435129],\n",
       "       [0.86037369, 0.80902034, 0.1164953 , ..., 0.91079524, 0.65242823,\n",
       "        0.95507414],\n",
       "       [0.87359904, 0.58190939, 0.24361753, ..., 0.34816971, 0.73898337,\n",
       "        0.04573685],\n",
       "       ...,\n",
       "       [0.06459961, 0.44896217, 0.15927479, ..., 0.85528033, 0.35310832,\n",
       "        0.77684412],\n",
       "       [0.7557412 , 0.40732111, 0.71869546, ..., 0.20994377, 0.69256793,\n",
       "        0.42008488],\n",
       "       [0.61420604, 0.35513015, 0.77741073, ..., 0.88769545, 0.33407008,\n",
       "        0.39353526]])"
      ]
     },
     "execution_count": 378,
     "metadata": {},
     "output_type": "execute_result"
    }
   ],
   "source": [
    "xs"
   ]
  },
  {
   "cell_type": "code",
   "execution_count": 379,
   "id": "higher-petersburg",
   "metadata": {},
   "outputs": [],
   "source": [
    "pred = model(torch.Tensor(xs))"
   ]
  },
  {
   "cell_type": "code",
   "execution_count": 405,
   "id": "greek-division",
   "metadata": {},
   "outputs": [
    {
     "name": "stdout",
     "output_type": "stream",
     "text": [
      "tensor([[ 1.7992,  0.7655,  0.0963,  0.9617, -0.4760,  0.2271,  0.7020,  1.1787,\n",
      "          1.7783,  0.0112],\n",
      "        [ 0.3129, -0.2450, -0.7395, -1.2475, -0.1956, -0.1695,  0.2950,  0.9331,\n",
      "         -1.0711,  0.0429],\n",
      "        [-0.8792, -0.9184,  0.2616,  0.8375,  0.4000,  0.9495, -0.2676, -0.6877,\n",
      "         -0.5796, -2.2028],\n",
      "        [ 1.3109,  0.6477,  0.5951,  0.0856, -0.8735,  0.3254,  1.1232, -0.5331,\n",
      "          0.0744,  0.3062],\n",
      "        [-0.2717, -1.5092, -0.3172,  0.8039,  0.2627, -0.8339,  0.5414, -0.4199,\n",
      "          0.1151,  0.2581],\n",
      "        [-1.0379, -0.7972, -1.9211, -1.1194,  1.1981,  1.0703,  0.7406, -0.2351,\n",
      "         -0.2842, -0.1996],\n",
      "        [ 1.4370, -0.5936,  3.0019, -1.1861, -0.5165,  0.4741, -1.2977,  0.7966,\n",
      "         -0.8950, -0.4288],\n",
      "        [ 1.6625,  0.5320, -1.3471, -1.2799, -0.0579, -1.4638,  0.4341,  0.1112,\n",
      "         -0.6111, -1.0229],\n",
      "        [-0.3189,  1.9478,  0.2768, -0.1287,  2.4045, -0.2611, -1.7988, -1.3944,\n",
      "         -0.3518,  0.1793],\n",
      "        [-0.1222,  0.1732,  1.1209,  0.6994,  0.0868, -1.6173,  0.1272, -1.0127,\n",
      "         -0.1891,  1.0765]])\n"
     ]
    }
   ],
   "source": [
    "with torch.no_grad():\n",
    "    W = torch.eye(n)\n",
    "    for layer in model.layers:\n",
    "        W = layer.weight @ W\n",
    "        \n",
    "print(W.T)"
   ]
  },
  {
   "cell_type": "code",
   "execution_count": 401,
   "id": "insured-young",
   "metadata": {},
   "outputs": [
    {
     "data": {
      "text/plain": [
       "array([[ 1.73524426,  0.7589897 ,  0.11086273,  1.00671102, -0.49302239,\n",
       "         0.27493598,  0.68534215,  1.1878646 ,  1.82161226,  0.03882611],\n",
       "       [ 0.35287121, -0.22092156, -0.81304522, -1.31859636, -0.19026202,\n",
       "        -0.25312937,  0.3098661 ,  0.93826705, -1.13002378,  0.02976269],\n",
       "       [-0.84191622, -0.93250287,  0.28175968,  0.85076471,  0.429506  ,\n",
       "         0.9517281 , -0.24435565, -0.71093685, -0.57497804, -2.2132725 ],\n",
       "       [ 1.29654281,  0.65774245,  0.61975526,  0.08412348, -0.89597071,\n",
       "         0.3446083 ,  1.09790046, -0.52130836,  0.07378989,  0.30467943],\n",
       "       [-0.24822845, -1.5107785 , -0.32437893,  0.80328529,  0.29162767,\n",
       "        -0.83795115,  0.5585567 , -0.43618552,  0.11498035,  0.25189669],\n",
       "       [-1.03149867, -0.79519772, -1.95261088, -1.13940969,  1.22089415,\n",
       "         1.04493519,  0.74929207, -0.2435886 , -0.30148036, -0.19979712],\n",
       "       [ 1.39843014, -0.55150968,  2.93359866, -1.25862434, -0.5757817 ,\n",
       "         0.4263465 , -1.33717181,  0.84676836, -0.94128326, -0.42275972],\n",
       "       [ 1.72873864,  0.54823485, -1.38142174, -1.33360337, -0.04880383,\n",
       "        -1.53975397,  0.45202078,  0.10126593, -0.67120531, -1.05996867],\n",
       "       [-0.37098611,  1.93285187,  0.32454983, -0.08150851,  2.36128544,\n",
       "        -0.21826832, -1.82661312, -1.37439747, -0.32556722,  0.18666502],\n",
       "       [-0.13593361,  0.1679446 ,  1.14596493,  0.72044552,  0.08052248,\n",
       "        -1.59080791,  0.11940345, -1.00906013, -0.17143474,  1.08254133]])"
      ]
     },
     "execution_count": 401,
     "metadata": {},
     "output_type": "execute_result"
    }
   ],
   "source": [
    "A"
   ]
  },
  {
   "cell_type": "code",
   "execution_count": null,
   "id": "handed-preservation",
   "metadata": {},
   "outputs": [],
   "source": [
    "ax = plt.subplot2grid((2, 3), (0, 1),\n",
    "                      rowspan=2, colspan=2,\n",
    "                      projection='3d')\n",
    "ax.view_init(elev=10, azim=-100)\n",
    "ax.scatter(xs, zs, ys, s=0.5, c=col / 255.0)\n",
    "ax.set_xlabel('x')\n",
    "ax.set_ylabel('z')\n",
    "ax.set_zlabel('y')\n",
    "ax.set_xlim(-1, 1)\n",
    "ax.set_ylim(-1, 1)\n",
    "ax.set_zlim(-1, 1)\n",
    "ax.set_box_aspect((1, 1, 1))\n",
    "ax.set_xticks(ax.get_xticks())\n",
    "ax.set_yticks(ax.get_yticks()[::2])\n",
    "ax.set_zticks(ax.get_zticks())\n",
    "plt.show()"
   ]
  }
 ],
 "metadata": {
  "kernelspec": {
   "display_name": "Python 3",
   "language": "python",
   "name": "python3"
  },
  "language_info": {
   "codemirror_mode": {
    "name": "ipython",
    "version": 3
   },
   "file_extension": ".py",
   "mimetype": "text/x-python",
   "name": "python",
   "nbconvert_exporter": "python",
   "pygments_lexer": "ipython3",
   "version": "3.8.6"
  }
 },
 "nbformat": 4,
 "nbformat_minor": 5
}
