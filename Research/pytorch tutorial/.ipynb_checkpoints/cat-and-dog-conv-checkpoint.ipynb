{
 "cells": [
  {
   "cell_type": "code",
   "execution_count": 11,
   "metadata": {},
   "outputs": [],
   "source": [
    "import os\n",
    "import cv2\n",
    "import numpy as np\n",
    "from tqdm import tqdm\n",
    "import torch\n",
    "import torch.nn as nn\n",
    "import torch.nn.functional as F\n",
    "import torch.optim as optim\n",
    "import matplotlib.pyplot as plt\n",
    "%matplotlib inline"
   ]
  },
  {
   "cell_type": "code",
   "execution_count": 12,
   "metadata": {
    "collapsed": false,
    "jupyter": {
     "outputs_hidden": false
    }
   },
   "outputs": [],
   "source": [
    "# pre-processing\n",
    "\n",
    "DIR_NAME = \"C:\\\\Users\\\\Jamie\\\\Documents\\\\University-Stuffs\\\\Research\\\\pytorch tutorial\"\n",
    "REBUILD_DATA = False\n",
    "\n",
    "\n",
    "class DogsVCats():\n",
    "    IMG_SIZE = 50\n",
    "    CATS = os.path.join(DIR_NAME, \"PetImages\", \"Cat\")\n",
    "    DOGS = os.path.join(DIR_NAME, \"PetImages\", \"Dog\")\n",
    "    TEST = os.path.join(DIR_NAME, \"PetImages\", \"Test\")\n",
    "    LABELS = {CATS: 0, DOGS: 1}\n",
    "    training_data = []\n",
    "    catCount = 0\n",
    "    dogCount = 0\n",
    "    \n",
    "    def makeTrainingData(self):\n",
    "        for label in self.LABELS:\n",
    "            # label is the path of Cats/Dogs\n",
    "            print(\"fetching from...\", label)\n",
    "            for name in tqdm(os.listdir(label)):\n",
    "                try:\n",
    "                    # appending\n",
    "                    path = os.path.join(label, name)\n",
    "                    img = cv2.imread(path, cv2.IMREAD_GRAYSCALE)\n",
    "                    img = cv2.resize(img, (self.IMG_SIZE, self.IMG_SIZE))\n",
    "                    idx = self.LABELS[label]\n",
    "                    data = [np.array(img), np.eye(2)[idx]]\n",
    "                    self.training_data.append(data)\n",
    "                    \n",
    "                    # counting\n",
    "                    if label == self.CATS:\n",
    "                        self.catCount += 1\n",
    "                    elif label == self.DOGS:\n",
    "                        self.dogCount += 1\n",
    "                        \n",
    "                except Exception as e:\n",
    "                    pass\n",
    "                    \n",
    "        np.random.shuffle(self.training_data)\n",
    "        np.save(os.path.join(DIR_NAME, \"training_data\"), self.training_data)\n",
    "                    \n",
    "        print(\"Cats:\", self.catCount)\n",
    "        print(\"Dogs:\", self.dogCount)\n",
    "\n",
    "\n",
    "\n",
    "\n",
    "if REBUILD_DATA:\n",
    "    dogsvcats = DogsVCats()\n",
    "    dogsvcats.makeTrainingData()\n",
    "            "
   ]
  },
  {
   "cell_type": "code",
   "execution_count": 13,
   "metadata": {},
   "outputs": [],
   "source": [
    "training_data = np.load(os.path.join(DIR_NAME, \"training_data.npy\"), allow_pickle=True)"
   ]
  },
  {
   "cell_type": "code",
   "execution_count": 14,
   "metadata": {},
   "outputs": [
    {
     "name": "stdout",
     "output_type": "stream",
     "text": [
      "24946\n"
     ]
    }
   ],
   "source": [
    "print(len(training_data))"
   ]
  },
  {
   "cell_type": "code",
   "execution_count": 16,
   "metadata": {},
   "outputs": [
    {
     "data": {
      "text/plain": [
       "<matplotlib.image.AxesImage at 0x1960efc1408>"
      ]
     },
     "execution_count": 16,
     "metadata": {},
     "output_type": "execute_result"
    },
    {
     "data": {
      "image/png": "[encoded data removed]",
      "text/plain": [
       "<Figure size 432x288 with 1 Axes>"
      ]
     },
     "metadata": {
      "needs_background": "light"
     },
     "output_type": "display_data"
    }
   ],
   "source": [
    "plt.imshow(training_data[13][0])"
   ]
  },
  {
   "cell_type": "code",
   "execution_count": 17,
   "metadata": {},
   "outputs": [],
   "source": [
    "\n",
    "class ConvNet(nn.Module):\n",
    "    def __init__(self):\n",
    "        super().__init__()\n",
    "        self.conv1 = nn.Conv2d(1, 32, 5)\n",
    "        self.conv2 = nn.Conv2d(32, 64, 5)\n",
    "        self.conv3 = nn.Conv2d(64, 128, 5)\n",
    "        self.fc1 = nn.Linear(512, 512)\n",
    "        self.fc2 = nn.Linear(512, 2)\n",
    "        \n",
    "    def forward(self, x):\n",
    "        x = F.relu(self.conv1(x))\n",
    "        x = F.max_pool2d(x, 2, 2)\n",
    "        x = F.relu(self.conv2(x))\n",
    "        x = F.max_pool2d(x, 2, 2)\n",
    "        x = F.relu(self.conv3(x))\n",
    "        x = F.max_pool2d(x, 2, 2)\n",
    "        x = x.flatten(start_dim=1)\n",
    "        x = F.relu(self.fc1(x))\n",
    "        x = F.softmax(self.fc2(x), dim=1)\n",
    "\n",
    "        #print(x.shape)\n",
    "        return x\n"
   ]
  },
  {
   "cell_type": "code",
   "execution_count": 36,
   "metadata": {},
   "outputs": [
    {
     "name": "stdout",
     "output_type": "stream",
     "text": [
      "ConvNet(\n",
      "  (conv1): Conv2d(1, 32, kernel_size=(5, 5), stride=(1, 1))\n",
      "  (conv2): Conv2d(32, 64, kernel_size=(5, 5), stride=(1, 1))\n",
      "  (conv3): Conv2d(64, 128, kernel_size=(5, 5), stride=(1, 1))\n",
      "  (fc1): Linear(in_features=512, out_features=512, bias=True)\n",
      "  (fc2): Linear(in_features=512, out_features=2, bias=True)\n",
      ")\n"
     ]
    }
   ],
   "source": [
    "conv = ConvNet().cuda()\n",
    "print(conv)\n",
    "# x = torch.rand((50, 50))\n",
    "# x = x.view(-1, 1, 50, 50)\n",
    "# y = conv(x)\n",
    "# y"
   ]
  },
  {
   "cell_type": "code",
   "execution_count": 27,
   "metadata": {},
   "outputs": [],
   "source": [
    "# training"
   ]
  },
  {
   "cell_type": "code",
   "execution_count": 28,
   "metadata": {
    "collapsed": true,
    "jupyter": {
     "outputs_hidden": true
    }
   },
   "outputs": [
    {
     "data": {
      "text/plain": [
       "tensor([[[0.2588, 0.1804, 0.1333,  ..., 0.2784, 0.2706, 0.2863],\n",
       "         [0.2627, 0.1059, 0.2588,  ..., 0.2863, 0.2863, 0.2902],\n",
       "         [0.2745, 0.2510, 0.2706,  ..., 0.5451, 0.5059, 0.5098],\n",
       "         ...,\n",
       "         [0.3490, 0.3098, 0.0863,  ..., 0.3373, 0.5922, 0.6824],\n",
       "         [0.2588, 0.2196, 0.1098,  ..., 0.4314, 0.6039, 0.6235],\n",
       "         [0.4196, 0.2627, 0.1176,  ..., 0.3725, 0.6627, 0.4667]],\n",
       "\n",
       "        [[0.4000, 0.4000, 0.3647,  ..., 0.7412, 0.7294, 0.7059],\n",
       "         [0.4078, 0.3922, 0.3608,  ..., 0.7529, 0.7490, 0.7333],\n",
       "         [0.4039, 0.3843, 0.3608,  ..., 0.7843, 0.7686, 0.7569],\n",
       "         ...,\n",
       "         [0.3961, 0.4902, 0.5216,  ..., 0.9294, 0.9333, 0.8941],\n",
       "         [0.6510, 0.7176, 0.6588,  ..., 0.8902, 0.9059, 0.9059],\n",
       "         [0.6824, 0.7137, 0.7216,  ..., 0.9098, 0.9176, 0.9451]],\n",
       "\n",
       "        [[0.1843, 0.2078, 0.2118,  ..., 0.2824, 0.3373, 0.3059],\n",
       "         [0.1961, 0.2078, 0.2000,  ..., 0.2902, 0.3059, 0.3529],\n",
       "         [0.1922, 0.2000, 0.1961,  ..., 0.2941, 0.3059, 0.3373],\n",
       "         ...,\n",
       "         [0.0353, 0.0549, 0.0275,  ..., 0.6078, 0.5961, 0.5804],\n",
       "         [0.0196, 0.0549, 0.0706,  ..., 0.6627, 0.6745, 0.6745],\n",
       "         [0.1961, 0.5725, 0.8706,  ..., 0.8196, 0.8196, 0.7333]],\n",
       "\n",
       "        ...,\n",
       "\n",
       "        [[0.1686, 0.1725, 0.1804,  ..., 0.1882, 0.1608, 0.1490],\n",
       "         [0.1843, 0.1843, 0.1961,  ..., 0.1804, 0.1922, 0.1686],\n",
       "         [0.1961, 0.2039, 0.2078,  ..., 0.1961, 0.2078, 0.1922],\n",
       "         ...,\n",
       "         [0.5843, 0.5686, 0.5490,  ..., 0.7176, 0.7294, 0.6588],\n",
       "         [0.5882, 0.5804, 0.5686,  ..., 0.6980, 0.6549, 0.6196],\n",
       "         [0.7020, 0.7412, 0.6667,  ..., 0.5804, 0.6392, 0.5961]],\n",
       "\n",
       "        [[0.4078, 0.3882, 0.3451,  ..., 0.3373, 0.3412, 0.3333],\n",
       "         [0.3529, 0.3490, 0.3255,  ..., 0.3373, 0.3529, 0.3059],\n",
       "         [0.3451, 0.3922, 0.3569,  ..., 0.3216, 0.3255, 0.3098],\n",
       "         ...,\n",
       "         [0.3647, 0.3451, 0.4431,  ..., 0.5098, 0.4118, 0.4941],\n",
       "         [0.4157, 0.3333, 0.3725,  ..., 0.5176, 0.5216, 0.4902],\n",
       "         [0.4078, 0.3569, 0.3804,  ..., 0.5137, 0.4980, 0.4863]],\n",
       "\n",
       "        [[0.9373, 0.9451, 0.9333,  ..., 0.2902, 0.4510, 0.6824],\n",
       "         [0.2000, 0.2196, 0.3216,  ..., 0.3412, 0.5961, 0.6784],\n",
       "         [0.1647, 0.2392, 0.2863,  ..., 0.4353, 0.6588, 0.6745],\n",
       "         ...,\n",
       "         [0.2471, 0.2510, 0.2667,  ..., 0.8471, 0.8275, 0.8314],\n",
       "         [0.4235, 0.2863, 0.2588,  ..., 0.8431, 0.8471, 0.8275],\n",
       "         [0.6824, 0.6196, 0.4706,  ..., 0.8078, 0.8392, 0.8431]]])"
      ]
     },
     "execution_count": 28,
     "metadata": {},
     "output_type": "execute_result"
    }
   ],
   "source": [
    "X = torch.Tensor([i[0] for i in training_data]) # .view(-1,50,50)??\n",
    "X = X/255.\n",
    "X"
   ]
  },
  {
   "cell_type": "code",
   "execution_count": 29,
   "metadata": {
    "collapsed": true,
    "jupyter": {
     "outputs_hidden": true
    }
   },
   "outputs": [
    {
     "data": {
      "text/plain": [
       "tensor([[0., 1.],\n",
       "        [1., 0.],\n",
       "        [1., 0.],\n",
       "        ...,\n",
       "        [1., 0.],\n",
       "        [1., 0.],\n",
       "        [1., 0.]])"
      ]
     },
     "execution_count": 29,
     "metadata": {},
     "output_type": "execute_result"
    }
   ],
   "source": [
    "y = torch.Tensor([i[1] for i in training_data])\n",
    "y"
   ]
  },
  {
   "cell_type": "code",
   "execution_count": 30,
   "metadata": {},
   "outputs": [],
   "source": [
    "# training_data[0][1]"
   ]
  },
  {
   "cell_type": "code",
   "execution_count": 31,
   "metadata": {},
   "outputs": [
    {
     "data": {
      "text/plain": [
       "2494"
      ]
     },
     "execution_count": 31,
     "metadata": {},
     "output_type": "execute_result"
    }
   ],
   "source": [
    "valPct = 0.1\n",
    "valSize = int(len(X) * valPct)\n",
    "valSize"
   ]
  },
  {
   "cell_type": "code",
   "execution_count": 43,
   "metadata": {},
   "outputs": [],
   "source": [
    "X_val = X[:valSize]\n",
    "X_train = X[valSize:]\n",
    "\n",
    "y_val = y[:valSize]\n",
    "y_train = y[valSize:]"
   ]
  },
  {
   "cell_type": "code",
   "execution_count": 44,
   "metadata": {},
   "outputs": [],
   "source": [
    "# i = 11\n",
    "# plt.imshow(X_val[i])\n",
    "# print(y_val[i])"
   ]
  },
  {
   "cell_type": "code",
   "execution_count": 45,
   "metadata": {},
   "outputs": [
    {
     "data": {
      "text/plain": [
       "torch.Size([2494, 2])"
      ]
     },
     "execution_count": 45,
     "metadata": {},
     "output_type": "execute_result"
    }
   ],
   "source": [
    "y_val.size()"
   ]
  },
  {
   "cell_type": "code",
   "execution_count": 61,
   "metadata": {},
   "outputs": [
    {
     "name": "stderr",
     "output_type": "stream",
     "text": [
      "100%|████████████████████████████████████████████████████████████████████████████████████████████████████████████████████████████████████████████████████████████████████████████████████████████████| 2246/2246 [00:07<00:00, 288.83it/s]\n",
      "100%|████████████████████████████████████████████████████████████████████████████████████████████████████████████████████████████████████████████████████████████████████████████████████████████████| 2246/2246 [00:07<00:00, 288.14it/s]\n",
      "100%|████████████████████████████████████████████████████████████████████████████████████████████████████████████████████████████████████████████████████████████████████████████████████████████████| 2246/2246 [00:07<00:00, 296.08it/s]\n",
      "100%|████████████████████████████████████████████████████████████████████████████████████████████████████████████████████████████████████████████████████████████████████████████████████████████████| 2246/2246 [00:07<00:00, 293.97it/s]\n",
      "100%|████████████████████████████████████████████████████████████████████████████████████████████████████████████████████████████████████████████████████████████████████████████████████████████████| 2246/2246 [00:07<00:00, 294.91it/s]"
     ]
    },
    {
     "name": "stdout",
     "output_type": "stream",
     "text": [
      "tensor(2.4546e-18, device='cuda:0', grad_fn=<MseLossBackward>)\n"
     ]
    },
    {
     "name": "stderr",
     "output_type": "stream",
     "text": [
      "\n"
     ]
    }
   ],
   "source": [
    "BATCH_SIZE = 10\n",
    "EPOCHS = 5\n",
    "\n",
    "def train(net):\n",
    "    optimizer = optim.Adam(net.parameters(), lr=1e-3)\n",
    "    lossFunction = nn.MSELoss()\n",
    "\n",
    "    for epoch in range(EPOCHS):\n",
    "        for i in tqdm( range(0, len(X_train), BATCH_SIZE) ):\n",
    "            batch_X = X_train[i:i+BATCH_SIZE].view(-1, 1, 50, 50)\n",
    "            batch_y = y_train[i:i+BATCH_SIZE]\n",
    "\n",
    "            batch_X = batch_X.cuda()\n",
    "            batch_y = batch_y.cuda()\n",
    "\n",
    "            net.zero_grad()\n",
    "            outputs = net(batch_X)\n",
    "            loss = lossFunction(outputs, batch_y)\n",
    "            loss.backward()\n",
    "            optimizer.step()\n",
    "            # print(loss)\n",
    "    print(loss)\n",
    "\n",
    "train(conv)\n"
   ]
  },
  {
   "cell_type": "code",
   "execution_count": 62,
   "metadata": {},
   "outputs": [
    {
     "name": "stderr",
     "output_type": "stream",
     "text": [
      "2494it [00:02, 1026.79it/s]"
     ]
    },
    {
     "name": "stdout",
     "output_type": "stream",
     "text": [
      "0.7469927826784283\n"
     ]
    },
    {
     "name": "stderr",
     "output_type": "stream",
     "text": [
      "\n"
     ]
    }
   ],
   "source": [
    "# validation\n",
    "def validate(net):\n",
    "    correct = 0\n",
    "    total = 0\n",
    "\n",
    "    with torch.no_grad():\n",
    "        for i, img in tqdm(enumerate(X_val)):\n",
    "            img = img.cuda()\n",
    "            predict = torch.argmax(net(img.view(1,1,50,50)))\n",
    "            truth = y_val[i][1].cuda()\n",
    "            if predict == truth:\n",
    "                correct += 1\n",
    "            total += 1\n",
    "\n",
    "    print(correct/total)\n",
    "    \n",
    "validate(conv)"
   ]
  },
  {
   "cell_type": "code",
   "execution_count": 5,
   "metadata": {},
   "outputs": [
    {
     "data": {
      "text/plain": [
       "device(type='cuda', index=0)"
      ]
     },
     "execution_count": 5,
     "metadata": {},
     "output_type": "execute_result"
    }
   ],
   "source": [
    "device = torch.device(\"cuda:0\")\n",
    "device"
   ]
  },
  {
   "cell_type": "code",
   "execution_count": 7,
   "metadata": {},
   "outputs": [
    {
     "name": "stdout",
     "output_type": "stream",
     "text": [
      "running on the GPU\n"
     ]
    }
   ],
   "source": [
    "if torch.cuda.is_available():\n",
    "    device = torch.device(\"cuda:0\")\n",
    "    print(\"running on the GPU\")\n",
    "else:\n",
    "    device = torch.device(\"cpu\")\n",
    "    print(\"running on the CPU\")"
   ]
  },
  {
   "cell_type": "code",
   "execution_count": 10,
   "metadata": {},
   "outputs": [
    {
     "data": {
      "text/plain": [
       "1"
      ]
     },
     "execution_count": 10,
     "metadata": {},
     "output_type": "execute_result"
    }
   ],
   "source": [
    "torch.cuda.device_count()"
   ]
  },
  {
   "cell_type": "code",
   "execution_count": null,
   "metadata": {},
   "outputs": [],
   "source": []
  }
 ],
 "metadata": {
  "kernelspec": {
   "display_name": "Python 3",
   "language": "python",
   "name": "python3"
  },
  "language_info": {
   "codemirror_mode": {
    "name": "ipython",
    "version": 3
   },
   "file_extension": ".py",
   "mimetype": "text/x-python",
   "name": "python",
   "nbconvert_exporter": "python",
   "pygments_lexer": "ipython3",
   "version": "3.7.9"
  }
 },
 "nbformat": 4,
 "nbformat_minor": 4
}
